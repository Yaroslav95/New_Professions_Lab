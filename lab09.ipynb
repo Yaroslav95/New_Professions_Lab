{
 "cells": [
  {
   "cell_type": "markdown",
   "metadata": {},
   "source": [
    "# Лаба 9. Ваш собственный алгоритм рекомендаций фильмов"
   ]
  },
  {
   "cell_type": "markdown",
   "metadata": {},
   "source": [
    "###  Построить рекомендательный алгоритм наилучшей предсказательной точности по метрике RMSE."
   ]
  },
  {
   "cell_type": "code",
   "execution_count": 1,
   "metadata": {
    "ExecuteTime": {
     "end_time": "2021-06-05T05:08:38.634118Z",
     "start_time": "2021-06-05T05:08:34.764571Z"
    },
    "scrolled": true
   },
   "outputs": [
    {
     "name": "stdout",
     "output_type": "stream",
     "text": [
      "Found 5 items\r\n",
      "-rw-r--r--   2 hdfs hdfs     561456 2020-09-30 12:23 /labs/lab09data/links.csv\r\n",
      "-rw-r--r--   2 hdfs hdfs    1390073 2020-09-30 12:23 /labs/lab09data/movies.csv\r\n",
      "-rw-r--r--   2 hdfs hdfs   11364859 2020-09-30 12:23 /labs/lab09data/tags.csv\r\n",
      "-rw-r--r--   2 hdfs hdfs  169754328 2020-09-30 12:23 /labs/lab09data/test.csv\r\n",
      "-rw-r--r--   2 hdfs hdfs  169755196 2020-09-30 12:23 /labs/lab09data/train.csv\r\n"
     ]
    }
   ],
   "source": [
    "!hadoop fs -ls /labs/lab09data"
   ]
  },
  {
   "cell_type": "code",
   "execution_count": 24,
   "metadata": {
    "ExecuteTime": {
     "end_time": "2021-06-05T06:39:59.199172Z",
     "start_time": "2021-06-05T06:39:55.760582Z"
    },
    "scrolled": true
   },
   "outputs": [
    {
     "name": "stdout",
     "output_type": "stream",
     "text": [
      "userId,movieId,rating\r\n",
      "1,2244,4.5\r\n",
      "1,2464,4.5\r\n",
      "1,6361,4.5\r\n",
      "1,10620,4.5\r\n",
      "1,12012,4.0\r\n",
      "1,12879,4.5\r\n",
      "1,14373,4.0\r\n",
      "1,17487,4.5\r\n",
      "1,18350,4.5\r\n",
      "cat: Unable to write to output stream.\r\n"
     ]
    }
   ],
   "source": [
    "!hadoop fs -cat /labs/lab09data/train.csv | head -n10"
   ]
  },
  {
   "cell_type": "markdown",
   "metadata": {},
   "source": [
    "## Установка библиотек"
   ]
  },
  {
   "cell_type": "code",
   "execution_count": 11,
   "metadata": {
    "ExecuteTime": {
     "end_time": "2021-06-05T06:26:08.612470Z",
     "start_time": "2021-06-05T06:25:30.998889Z"
    }
   },
   "outputs": [
    {
     "name": "stdout",
     "output_type": "stream",
     "text": [
      "Collecting scikit-surprise\n",
      "\u001b[?25l  Downloading https://files.pythonhosted.org/packages/97/37/5d334adaf5ddd65da99fc65f6507e0e4599d092ba048f4302fe8775619e8/scikit-surprise-1.1.1.tar.gz (11.8MB)\n",
      "\u001b[K    100% |████████████████████████████████| 11.8MB 1.1MB/s eta 0:00:01\n",
      "\u001b[?25hRequirement already satisfied: joblib>=0.11 in /opt/anaconda/envs/bd9/lib/python3.6/site-packages (from scikit-surprise) (0.13.2)\n",
      "Requirement already satisfied: numpy>=1.11.2 in /data/home/evgeny.permyakov/.local/lib/python3.6/site-packages (from scikit-surprise) (1.19.5)\n",
      "Requirement already satisfied: scipy>=1.0.0 in /opt/anaconda/envs/bd9/lib/python3.6/site-packages (from scikit-surprise) (1.1.0)\n",
      "Requirement already satisfied: six>=1.10.0 in /opt/anaconda/envs/bd9/lib/python3.6/site-packages (from scikit-surprise) (1.11.0)\n",
      "Building wheels for collected packages: scikit-surprise\n",
      "  Running setup.py bdist_wheel for scikit-surprise ... \u001b[?25ldone\n",
      "\u001b[?25h  Stored in directory: /data/home/evgeny.permyakov/.cache/pip/wheels/78/9c/3d/41b419c9d2aff5b6e2b4c0fc8d25c538202834058f9ed110d0\n",
      "Successfully built scikit-surprise\n",
      "Installing collected packages: scikit-surprise\n",
      "\u001b[33m  The script surprise is installed in '/data/home/evgeny.permyakov/.local/bin' which is not on PATH.\n",
      "  Consider adding this directory to PATH or, if you prefer to suppress this warning, use --no-warn-script-location.\u001b[0m\n",
      "Successfully installed scikit-surprise-1.1.1\n",
      "\u001b[33mYou are using pip version 10.0.1, however version 21.1.2 is available.\n",
      "You should consider upgrading via the 'pip install --upgrade pip' command.\u001b[0m\n"
     ]
    }
   ],
   "source": [
    "import sys\n",
    "!{sys.executable} -m pip install scikit-surprise --user"
   ]
  },
  {
   "cell_type": "code",
   "execution_count": 54,
   "metadata": {
    "ExecuteTime": {
     "end_time": "2021-06-05T07:43:25.428732Z",
     "start_time": "2021-06-05T07:43:25.425106Z"
    }
   },
   "outputs": [],
   "source": [
    "import pandas as pd\n",
    "from surprise import (\n",
    "    SVD,\n",
    "    Reader,\n",
    "    Dataset,\n",
    "    accuracy\n",
    ")\n",
    "\n",
    "from surprise.model_selection import train_test_split"
   ]
  },
  {
   "cell_type": "markdown",
   "metadata": {},
   "source": [
    "# Грузим в датафреймы"
   ]
  },
  {
   "cell_type": "code",
   "execution_count": 13,
   "metadata": {
    "ExecuteTime": {
     "end_time": "2021-06-05T06:28:03.343866Z",
     "start_time": "2021-06-05T06:27:58.939617Z"
    }
   },
   "outputs": [],
   "source": [
    "df_train = pd.read_csv('train.csv')"
   ]
  },
  {
   "cell_type": "code",
   "execution_count": 37,
   "metadata": {
    "ExecuteTime": {
     "end_time": "2021-06-05T06:59:05.955824Z",
     "start_time": "2021-06-05T06:59:05.916544Z"
    },
    "scrolled": true
   },
   "outputs": [
    {
     "data": {
      "text/plain": [
       "5.0"
      ]
     },
     "execution_count": 37,
     "metadata": {},
     "output_type": "execute_result"
    }
   ],
   "source": [
    "df_train.rating.max()"
   ]
  },
  {
   "cell_type": "code",
   "execution_count": 41,
   "metadata": {
    "ExecuteTime": {
     "end_time": "2021-06-05T07:16:56.330766Z",
     "start_time": "2021-06-05T07:16:32.301376Z"
    }
   },
   "outputs": [],
   "source": [
    "df_test = pd.read_csv('test.csv')"
   ]
  },
  {
   "cell_type": "code",
   "execution_count": 42,
   "metadata": {
    "ExecuteTime": {
     "end_time": "2021-06-05T07:18:42.014588Z",
     "start_time": "2021-06-05T07:18:41.996926Z"
    }
   },
   "outputs": [
    {
     "data": {
      "text/html": [
       "<div>\n",
       "<style scoped>\n",
       "    .dataframe tbody tr th:only-of-type {\n",
       "        vertical-align: middle;\n",
       "    }\n",
       "\n",
       "    .dataframe tbody tr th {\n",
       "        vertical-align: top;\n",
       "    }\n",
       "\n",
       "    .dataframe thead th {\n",
       "        text-align: right;\n",
       "    }\n",
       "</style>\n",
       "<table border=\"1\" class=\"dataframe\">\n",
       "  <thead>\n",
       "    <tr style=\"text-align: right;\">\n",
       "      <th></th>\n",
       "      <th>userId</th>\n",
       "      <th>movieId</th>\n",
       "      <th>rating</th>\n",
       "    </tr>\n",
       "  </thead>\n",
       "  <tbody>\n",
       "    <tr>\n",
       "      <th>0</th>\n",
       "      <td>1</td>\n",
       "      <td>1414</td>\n",
       "      <td>0.0</td>\n",
       "    </tr>\n",
       "    <tr>\n",
       "      <th>1</th>\n",
       "      <td>1</td>\n",
       "      <td>2346</td>\n",
       "      <td>0.0</td>\n",
       "    </tr>\n",
       "    <tr>\n",
       "      <th>2</th>\n",
       "      <td>1</td>\n",
       "      <td>5278</td>\n",
       "      <td>0.0</td>\n",
       "    </tr>\n",
       "    <tr>\n",
       "      <th>3</th>\n",
       "      <td>1</td>\n",
       "      <td>9303</td>\n",
       "      <td>0.0</td>\n",
       "    </tr>\n",
       "    <tr>\n",
       "      <th>4</th>\n",
       "      <td>1</td>\n",
       "      <td>11817</td>\n",
       "      <td>0.0</td>\n",
       "    </tr>\n",
       "    <tr>\n",
       "      <th>...</th>\n",
       "      <td>...</td>\n",
       "      <td>...</td>\n",
       "      <td>...</td>\n",
       "    </tr>\n",
       "    <tr>\n",
       "      <th>10531559</th>\n",
       "      <td>229060</td>\n",
       "      <td>27122</td>\n",
       "      <td>0.0</td>\n",
       "    </tr>\n",
       "    <tr>\n",
       "      <th>10531560</th>\n",
       "      <td>229060</td>\n",
       "      <td>27170</td>\n",
       "      <td>0.0</td>\n",
       "    </tr>\n",
       "    <tr>\n",
       "      <th>10531561</th>\n",
       "      <td>229060</td>\n",
       "      <td>27202</td>\n",
       "      <td>0.0</td>\n",
       "    </tr>\n",
       "    <tr>\n",
       "      <th>10531562</th>\n",
       "      <td>229060</td>\n",
       "      <td>27233</td>\n",
       "      <td>0.0</td>\n",
       "    </tr>\n",
       "    <tr>\n",
       "      <th>10531563</th>\n",
       "      <td>229060</td>\n",
       "      <td>27275</td>\n",
       "      <td>0.0</td>\n",
       "    </tr>\n",
       "  </tbody>\n",
       "</table>\n",
       "<p>10531564 rows × 3 columns</p>\n",
       "</div>"
      ],
      "text/plain": [
       "          userId  movieId  rating\n",
       "0              1     1414     0.0\n",
       "1              1     2346     0.0\n",
       "2              1     5278     0.0\n",
       "3              1     9303     0.0\n",
       "4              1    11817     0.0\n",
       "...          ...      ...     ...\n",
       "10531559  229060    27122     0.0\n",
       "10531560  229060    27170     0.0\n",
       "10531561  229060    27202     0.0\n",
       "10531562  229060    27233     0.0\n",
       "10531563  229060    27275     0.0\n",
       "\n",
       "[10531564 rows x 3 columns]"
      ]
     },
     "execution_count": 42,
     "metadata": {},
     "output_type": "execute_result"
    }
   ],
   "source": [
    "df_test"
   ]
  },
  {
   "cell_type": "markdown",
   "metadata": {},
   "source": [
    "# Обучаем SVD\n",
    "\n",
    "https://surprise.readthedocs.io/en/stable/getting_started.html#load-from-file-example"
   ]
  },
  {
   "cell_type": "code",
   "execution_count": 38,
   "metadata": {
    "ExecuteTime": {
     "end_time": "2021-06-05T07:01:32.807243Z",
     "start_time": "2021-06-05T07:01:01.700712Z"
    }
   },
   "outputs": [],
   "source": [
    "reader = Reader(rating_scale=(0.5, 5))\n",
    "data = Dataset.load_from_df(df_train, reader)"
   ]
  },
  {
   "cell_type": "code",
   "execution_count": 39,
   "metadata": {
    "ExecuteTime": {
     "end_time": "2021-06-05T07:01:54.795167Z",
     "start_time": "2021-06-05T07:01:32.809683Z"
    }
   },
   "outputs": [],
   "source": [
    "trainset = data.build_full_trainset()"
   ]
  },
  {
   "cell_type": "code",
   "execution_count": 40,
   "metadata": {
    "ExecuteTime": {
     "end_time": "2021-06-05T07:13:56.345639Z",
     "start_time": "2021-06-05T07:01:54.804540Z"
    }
   },
   "outputs": [
    {
     "data": {
      "text/plain": [
       "<surprise.prediction_algorithms.matrix_factorization.SVD at 0x7f8a1ddd7cc0>"
      ]
     },
     "execution_count": 40,
     "metadata": {},
     "output_type": "execute_result"
    }
   ],
   "source": [
    "algo = SVD()\n",
    "\n",
    "algo.fit(trainset)"
   ]
  },
  {
   "cell_type": "markdown",
   "metadata": {},
   "source": [
    "# Применяем"
   ]
  },
  {
   "cell_type": "code",
   "execution_count": 43,
   "metadata": {
    "ExecuteTime": {
     "end_time": "2021-06-05T07:22:18.245259Z",
     "start_time": "2021-06-05T07:22:00.768975Z"
    }
   },
   "outputs": [],
   "source": [
    "test_data = Dataset.load_from_df(df_test, reader)"
   ]
  },
  {
   "cell_type": "code",
   "execution_count": 47,
   "metadata": {
    "ExecuteTime": {
     "end_time": "2021-06-05T07:26:03.735822Z",
     "start_time": "2021-06-05T07:25:02.606576Z"
    }
   },
   "outputs": [],
   "source": [
    "NA, test = train_test_split(test_data, test_size = 1.0)"
   ]
  },
  {
   "cell_type": "code",
   "execution_count": 48,
   "metadata": {
    "ExecuteTime": {
     "end_time": "2021-06-05T07:30:58.034252Z",
     "start_time": "2021-06-05T07:26:03.738755Z"
    }
   },
   "outputs": [],
   "source": [
    "predictions = algo.test(test)"
   ]
  },
  {
   "cell_type": "code",
   "execution_count": 61,
   "metadata": {
    "ExecuteTime": {
     "end_time": "2021-06-05T07:47:26.698582Z",
     "start_time": "2021-06-05T07:47:26.694434Z"
    }
   },
   "outputs": [
    {
     "data": {
      "text/plain": [
       "153686"
      ]
     },
     "execution_count": 61,
     "metadata": {},
     "output_type": "execute_result"
    }
   ],
   "source": [
    "predictions"
   ]
  },
  {
   "cell_type": "markdown",
   "metadata": {},
   "source": [
    "# Результат"
   ]
  },
  {
   "cell_type": "code",
   "execution_count": 62,
   "metadata": {
    "ExecuteTime": {
     "end_time": "2021-06-05T07:54:06.330896Z",
     "start_time": "2021-06-05T07:53:15.477352Z"
    }
   },
   "outputs": [],
   "source": [
    "df_pred = pd.DataFrame(predictions)"
   ]
  },
  {
   "cell_type": "code",
   "execution_count": 64,
   "metadata": {
    "ExecuteTime": {
     "end_time": "2021-06-05T07:55:06.709726Z",
     "start_time": "2021-06-05T07:55:06.592764Z"
    }
   },
   "outputs": [],
   "source": [
    "df_pred = df_pred[['uid', 'iid', 'est']]"
   ]
  },
  {
   "cell_type": "code",
   "execution_count": 67,
   "metadata": {
    "ExecuteTime": {
     "end_time": "2021-06-05T07:57:26.943516Z",
     "start_time": "2021-06-05T07:57:03.687050Z"
    }
   },
   "outputs": [],
   "source": [
    "df_pred = df_pred.sort_values(by=['uid','iid'], ascending=(True,True))"
   ]
  },
  {
   "cell_type": "code",
   "execution_count": 79,
   "metadata": {
    "ExecuteTime": {
     "end_time": "2021-06-05T08:15:18.405835Z",
     "start_time": "2021-06-05T08:15:15.606021Z"
    }
   },
   "outputs": [],
   "source": [
    "df_pred = df_pred.rename(columns = {\n",
    "    'uid':'userId',\n",
    "    'iid':'movieId',\n",
    "    'est':'rating'\n",
    "})"
   ]
  },
  {
   "cell_type": "code",
   "execution_count": 80,
   "metadata": {
    "ExecuteTime": {
     "end_time": "2021-06-05T08:15:55.861484Z",
     "start_time": "2021-06-05T08:15:18.408234Z"
    }
   },
   "outputs": [],
   "source": [
    "df_pred.to_csv('../lab09.csv', index=False)"
   ]
  },
  {
   "cell_type": "code",
   "execution_count": null,
   "metadata": {},
   "outputs": [],
   "source": []
  }
 ],
 "metadata": {
  "kernelspec": {
   "display_name": "Python 3",
   "language": "python",
   "name": "python3"
  },
  "language_info": {
   "codemirror_mode": {
    "name": "ipython",
    "version": 3
   },
   "file_extension": ".py",
   "mimetype": "text/x-python",
   "name": "python",
   "nbconvert_exporter": "python",
   "pygments_lexer": "ipython3",
   "version": "3.6.5"
  },
  "toc": {
   "base_numbering": 1,
   "nav_menu": {},
   "number_sections": true,
   "sideBar": true,
   "skip_h1_title": false,
   "title_cell": "Table of Contents",
   "title_sidebar": "Contents",
   "toc_cell": false,
   "toc_position": {},
   "toc_section_display": true,
   "toc_window_display": false
  }
 },
 "nbformat": 4,
 "nbformat_minor": 2
}
