{
 "cells": [
  {
   "cell_type": "markdown",
   "metadata": {
    "ExecuteTime": {
     "end_time": "2021-05-17T20:00:10.608094Z",
     "start_time": "2021-05-17T20:00:10.603574Z"
    }
   },
   "source": [
    "# Лаба 7. Построить content-based рекомендательную систему образовательных курсов"
   ]
  },
  {
   "cell_type": "code",
   "execution_count": null,
   "metadata": {},
   "outputs": [],
   "source": [
    "import pandas as pd\n",
    "import numpy as np\n",
    "import json\n",
    "import re\n",
    "\n",
    "from sklearn.feature_extraction.text import TfidfVectorizer, CountVectorizer\n",
    "from nltk.corpus import stopwords\n",
    "from sklearn.metrics.pairwise import cosine_similarity"
   ]
  },
  {
   "cell_type": "markdown",
   "metadata": {},
   "source": [
    "## Исходные данные"
   ]
  },
  {
   "cell_type": "code",
   "execution_count": 468,
   "metadata": {
    "ExecuteTime": {
     "end_time": "2021-05-17T21:26:49.854595Z",
     "start_time": "2021-05-17T21:26:48.235999Z"
    }
   },
   "outputs": [],
   "source": [
    "src_file = 'DO_record_per_line.json'\n",
    "\n",
    "df = pd.read_json(src_file, lines=True)"
   ]
  },
  {
   "cell_type": "code",
   "execution_count": 469,
   "metadata": {
    "ExecuteTime": {
     "end_time": "2021-05-17T21:26:49.875028Z",
     "start_time": "2021-05-17T21:26:49.857004Z"
    },
    "scrolled": true
   },
   "outputs": [
    {
     "data": {
      "text/html": [
       "<div>\n",
       "<style scoped>\n",
       "    .dataframe tbody tr th:only-of-type {\n",
       "        vertical-align: middle;\n",
       "    }\n",
       "\n",
       "    .dataframe tbody tr th {\n",
       "        vertical-align: top;\n",
       "    }\n",
       "\n",
       "    .dataframe thead th {\n",
       "        text-align: right;\n",
       "    }\n",
       "</style>\n",
       "<table border=\"1\" class=\"dataframe\">\n",
       "  <thead>\n",
       "    <tr style=\"text-align: right;\">\n",
       "      <th></th>\n",
       "      <th>lang</th>\n",
       "      <th>name</th>\n",
       "      <th>cat</th>\n",
       "      <th>provider</th>\n",
       "      <th>id</th>\n",
       "      <th>desc</th>\n",
       "    </tr>\n",
       "  </thead>\n",
       "  <tbody>\n",
       "    <tr>\n",
       "      <th>0</th>\n",
       "      <td>en</td>\n",
       "      <td>Accounting Cycle: The Foundation of Business M...</td>\n",
       "      <td>3/business_management|6/economics_finance</td>\n",
       "      <td>Canvas Network</td>\n",
       "      <td>4</td>\n",
       "      <td>This course introduces the basic financial sta...</td>\n",
       "    </tr>\n",
       "    <tr>\n",
       "      <th>1</th>\n",
       "      <td>en</td>\n",
       "      <td>American Counter Terrorism Law</td>\n",
       "      <td>11/law</td>\n",
       "      <td>Canvas Network</td>\n",
       "      <td>5</td>\n",
       "      <td>This online course will introduce you to Ameri...</td>\n",
       "    </tr>\n",
       "    <tr>\n",
       "      <th>2</th>\n",
       "      <td>fr</td>\n",
       "      <td>Arithmétique: en route pour la cryptographie</td>\n",
       "      <td>5/computer_science|15/mathematics_statistics_a...</td>\n",
       "      <td>Canvas Network</td>\n",
       "      <td>6</td>\n",
       "      <td>This course is taught in French Vous voulez co...</td>\n",
       "    </tr>\n",
       "    <tr>\n",
       "      <th>3</th>\n",
       "      <td>en</td>\n",
       "      <td>Becoming a Dynamic Educator</td>\n",
       "      <td>14/social_sciences</td>\n",
       "      <td>Canvas Network</td>\n",
       "      <td>7</td>\n",
       "      <td>We live in a digitally connected world. The wa...</td>\n",
       "    </tr>\n",
       "    <tr>\n",
       "      <th>4</th>\n",
       "      <td>en</td>\n",
       "      <td>Bioethics</td>\n",
       "      <td>2/biology_life_sciences</td>\n",
       "      <td>Canvas Network</td>\n",
       "      <td>8</td>\n",
       "      <td>This self-paced course is designed to show tha...</td>\n",
       "    </tr>\n",
       "    <tr>\n",
       "      <th>...</th>\n",
       "      <td>...</td>\n",
       "      <td>...</td>\n",
       "      <td>...</td>\n",
       "      <td>...</td>\n",
       "      <td>...</td>\n",
       "      <td>...</td>\n",
       "    </tr>\n",
       "    <tr>\n",
       "      <th>28148</th>\n",
       "      <td>en</td>\n",
       "      <td>Human Origins</td>\n",
       "      <td>2/biology_life_sciences</td>\n",
       "      <td>edX</td>\n",
       "      <td>28313</td>\n",
       "      <td>Explore the scientific evidence for human evol...</td>\n",
       "    </tr>\n",
       "    <tr>\n",
       "      <th>28149</th>\n",
       "      <td>en</td>\n",
       "      <td>Legal Risk Management Strategy for Multination...</td>\n",
       "      <td></td>\n",
       "      <td>edX</td>\n",
       "      <td>28314</td>\n",
       "      <td>Examine the recent shift in the concept of cor...</td>\n",
       "    </tr>\n",
       "    <tr>\n",
       "      <th>28150</th>\n",
       "      <td>en</td>\n",
       "      <td>China (Part 1): The Political and Intellectual...</td>\n",
       "      <td></td>\n",
       "      <td>edX</td>\n",
       "      <td>28315</td>\n",
       "      <td>China’s past, present, and future: through his...</td>\n",
       "    </tr>\n",
       "    <tr>\n",
       "      <th>28151</th>\n",
       "      <td>es</td>\n",
       "      <td>Entrepreneurship 102: ¿Que puedes hacer por tu...</td>\n",
       "      <td></td>\n",
       "      <td>edX</td>\n",
       "      <td>28316</td>\n",
       "      <td>¿Que puedes hacer por tu cliente? No preguntes...</td>\n",
       "    </tr>\n",
       "    <tr>\n",
       "      <th>28152</th>\n",
       "      <td>en</td>\n",
       "      <td>Introduction to Biology- The Secret of Life</td>\n",
       "      <td>2/biology_life_sciences|12/medicine_health</td>\n",
       "      <td>edX</td>\n",
       "      <td>28317</td>\n",
       "      <td>Explore the secret of life through the basics ...</td>\n",
       "    </tr>\n",
       "  </tbody>\n",
       "</table>\n",
       "<p>28153 rows × 6 columns</p>\n",
       "</div>"
      ],
      "text/plain": [
       "      lang                                               name  \\\n",
       "0       en  Accounting Cycle: The Foundation of Business M...   \n",
       "1       en                     American Counter Terrorism Law   \n",
       "2       fr       Arithmétique: en route pour la cryptographie   \n",
       "3       en                        Becoming a Dynamic Educator   \n",
       "4       en                                          Bioethics   \n",
       "...    ...                                                ...   \n",
       "28148   en                                      Human Origins   \n",
       "28149   en  Legal Risk Management Strategy for Multination...   \n",
       "28150   en  China (Part 1): The Political and Intellectual...   \n",
       "28151   es  Entrepreneurship 102: ¿Que puedes hacer por tu...   \n",
       "28152   en        Introduction to Biology- The Secret of Life   \n",
       "\n",
       "                                                     cat        provider  \\\n",
       "0              3/business_management|6/economics_finance  Canvas Network   \n",
       "1                                                 11/law  Canvas Network   \n",
       "2      5/computer_science|15/mathematics_statistics_a...  Canvas Network   \n",
       "3                                     14/social_sciences  Canvas Network   \n",
       "4                                2/biology_life_sciences  Canvas Network   \n",
       "...                                                  ...             ...   \n",
       "28148                            2/biology_life_sciences             edX   \n",
       "28149                                                                edX   \n",
       "28150                                                                edX   \n",
       "28151                                                                edX   \n",
       "28152         2/biology_life_sciences|12/medicine_health             edX   \n",
       "\n",
       "          id                                               desc  \n",
       "0          4  This course introduces the basic financial sta...  \n",
       "1          5  This online course will introduce you to Ameri...  \n",
       "2          6  This course is taught in French Vous voulez co...  \n",
       "3          7  We live in a digitally connected world. The wa...  \n",
       "4          8  This self-paced course is designed to show tha...  \n",
       "...      ...                                                ...  \n",
       "28148  28313  Explore the scientific evidence for human evol...  \n",
       "28149  28314  Examine the recent shift in the concept of cor...  \n",
       "28150  28315  China’s past, present, and future: through his...  \n",
       "28151  28316  ¿Que puedes hacer por tu cliente? No preguntes...  \n",
       "28152  28317  Explore the secret of life through the basics ...  \n",
       "\n",
       "[28153 rows x 6 columns]"
      ]
     },
     "execution_count": 469,
     "metadata": {},
     "output_type": "execute_result"
    }
   ],
   "source": [
    "df"
   ]
  },
  {
   "cell_type": "markdown",
   "metadata": {},
   "source": [
    "## courses to make recommendations"
   ]
  },
  {
   "cell_type": "code",
   "execution_count": 8,
   "metadata": {
    "ExecuteTime": {
     "end_time": "2021-05-17T15:43:20.116760Z",
     "start_time": "2021-05-17T15:43:20.108529Z"
    }
   },
   "outputs": [],
   "source": [
    "df_rec_for = pd.DataFrame(\n",
    "    [\n",
    "        [861, u'ru', u'\\u0412\\u0432\\u0435\\u0434\\u0435\\u043d\\u0438\\u0435 \\u0432 \\u0441\\u043f\\u0435\\u0446\\u0438\\u0430\\u043b\\u044c\\u043d\\u043e\\u0441\\u0442\\u044c \\u043d\\u0435\\u0444\\u0442\\u044f\\u043d\\u0438\\u043a\\u0430'], \n",
    "        [4194, u'en', u'Excel VBA Tutorial - Excel Macro Tutorial'], \n",
    "        [8751, u'ru', u'\\u0412\\u0432\\u0435\\u0434\\u0435\\u043d\\u0438\\u0435 \\u0432 \\u0430\\u043d\\u0430\\u043b\\u0438\\u0442\\u0438\\u043a\\u0443 \\u0431\\u043e\\u043b\\u044c\\u0448\\u0438\\u0445 \\u043c\\u0430\\u0441\\u0441\\u0438\\u0432\\u043e\\u0432 \\u0434\\u0430\\u043d\\u043d\\u044b\\u0445'], \n",
    "        [8974, u'es', u'After Effects Esencial by Txetxu de la Portilla'], \n",
    "        [9038, u'es', u'Aprende a Vender por Email by Lic. Leonardo Benijes'], \n",
    "        [19226, u'en', u'Requirements Analysis Destroys Ambiguity by Tom and Angela Hathaway']\n",
    "    ],\n",
    "    columns=['id','lang', 'name']\n",
    ")"
   ]
  },
  {
   "cell_type": "code",
   "execution_count": 9,
   "metadata": {
    "ExecuteTime": {
     "end_time": "2021-05-17T15:43:26.652145Z",
     "start_time": "2021-05-17T15:43:26.641767Z"
    },
    "scrolled": false
   },
   "outputs": [
    {
     "data": {
      "text/html": [
       "<div>\n",
       "<style scoped>\n",
       "    .dataframe tbody tr th:only-of-type {\n",
       "        vertical-align: middle;\n",
       "    }\n",
       "\n",
       "    .dataframe tbody tr th {\n",
       "        vertical-align: top;\n",
       "    }\n",
       "\n",
       "    .dataframe thead th {\n",
       "        text-align: right;\n",
       "    }\n",
       "</style>\n",
       "<table border=\"1\" class=\"dataframe\">\n",
       "  <thead>\n",
       "    <tr style=\"text-align: right;\">\n",
       "      <th></th>\n",
       "      <th>id</th>\n",
       "      <th>lang</th>\n",
       "      <th>name</th>\n",
       "    </tr>\n",
       "  </thead>\n",
       "  <tbody>\n",
       "    <tr>\n",
       "      <th>0</th>\n",
       "      <td>861</td>\n",
       "      <td>ru</td>\n",
       "      <td>Введение в специальность нефтяника</td>\n",
       "    </tr>\n",
       "    <tr>\n",
       "      <th>1</th>\n",
       "      <td>4194</td>\n",
       "      <td>en</td>\n",
       "      <td>Excel VBA Tutorial - Excel Macro Tutorial</td>\n",
       "    </tr>\n",
       "    <tr>\n",
       "      <th>2</th>\n",
       "      <td>8751</td>\n",
       "      <td>ru</td>\n",
       "      <td>Введение в аналитику больших массивов данных</td>\n",
       "    </tr>\n",
       "    <tr>\n",
       "      <th>3</th>\n",
       "      <td>8974</td>\n",
       "      <td>es</td>\n",
       "      <td>After Effects Esencial by Txetxu de la Portilla</td>\n",
       "    </tr>\n",
       "    <tr>\n",
       "      <th>4</th>\n",
       "      <td>9038</td>\n",
       "      <td>es</td>\n",
       "      <td>Aprende a Vender por Email by Lic. Leonardo Be...</td>\n",
       "    </tr>\n",
       "    <tr>\n",
       "      <th>5</th>\n",
       "      <td>19226</td>\n",
       "      <td>en</td>\n",
       "      <td>Requirements Analysis Destroys Ambiguity by To...</td>\n",
       "    </tr>\n",
       "  </tbody>\n",
       "</table>\n",
       "</div>"
      ],
      "text/plain": [
       "      id lang                                               name\n",
       "0    861   ru                 Введение в специальность нефтяника\n",
       "1   4194   en          Excel VBA Tutorial - Excel Macro Tutorial\n",
       "2   8751   ru       Введение в аналитику больших массивов данных\n",
       "3   8974   es    After Effects Esencial by Txetxu de la Portilla\n",
       "4   9038   es  Aprende a Vender por Email by Lic. Leonardo Be...\n",
       "5  19226   en  Requirements Analysis Destroys Ambiguity by To..."
      ]
     },
     "execution_count": 9,
     "metadata": {},
     "output_type": "execute_result"
    }
   ],
   "source": [
    "df_rec_for"
   ]
  },
  {
   "cell_type": "markdown",
   "metadata": {},
   "source": [
    "Найдем номера строк где встречаются наши id"
   ]
  },
  {
   "cell_type": "markdown",
   "metadata": {},
   "source": [
    "## Токенизируем и веторизируем тексты"
   ]
  },
  {
   "cell_type": "markdown",
   "metadata": {},
   "source": [
    "### Стоп слова\n",
    "\n",
    "А что нам мешает соединить вместе русские и английсие?"
   ]
  },
  {
   "cell_type": "code",
   "execution_count": 84,
   "metadata": {
    "ExecuteTime": {
     "end_time": "2021-05-17T17:18:01.422221Z",
     "start_time": "2021-05-17T17:18:01.417437Z"
    }
   },
   "outputs": [],
   "source": [
    "stopwords_rus = stopwords.words('russian')\n",
    "stopwords_eng = stopwords.words('english')\n",
    "stopwords_esp = stopwords.words('spanish')\n",
    "stopwords_all = stopwords_rus + stopwords_eng + stopwords_esp"
   ]
  },
  {
   "cell_type": "code",
   "execution_count": 400,
   "metadata": {
    "ExecuteTime": {
     "end_time": "2021-05-17T20:42:30.602040Z",
     "start_time": "2021-05-17T20:42:30.564452Z"
    }
   },
   "outputs": [],
   "source": [
    "stopwords_dic = {\n",
    "    'ru': stopwords.words('russian'),\n",
    "    'en': stopwords.words('english'),\n",
    "    'es': stopwords.words('spanish'),\n",
    "}"
   ]
  },
  {
   "cell_type": "markdown",
   "metadata": {},
   "source": [
    "### Токенайзер\n",
    "\n",
    "Воспользуемся советом из лабы"
   ]
  },
  {
   "cell_type": "code",
   "execution_count": 25,
   "metadata": {
    "ExecuteTime": {
     "end_time": "2021-05-17T16:07:45.615528Z",
     "start_time": "2021-05-17T16:07:45.604367Z"
    }
   },
   "outputs": [],
   "source": [
    "def token_r(text):\n",
    "    regex = re.compile(r'[\\w\\d]{2,}', re.U)\n",
    "    return regex.findall(text.lower())"
   ]
  },
  {
   "cell_type": "code",
   "execution_count": 85,
   "metadata": {
    "ExecuteTime": {
     "end_time": "2021-05-17T17:18:12.822707Z",
     "start_time": "2021-05-17T17:18:10.872588Z"
    }
   },
   "outputs": [],
   "source": [
    "vectorizer = TfidfVectorizer(\n",
    "    tokenizer=token_r, \n",
    "    stop_words=stopwords_all,\n",
    "    ngram_range=(1, 2),\n",
    "    max_features=10000\n",
    ")"
   ]
  },
  {
   "cell_type": "markdown",
   "metadata": {},
   "source": [
    "### TF-IDF для каждого языка по отдельности"
   ]
  },
  {
   "cell_type": "code",
   "execution_count": 86,
   "metadata": {
    "ExecuteTime": {
     "end_time": "2021-05-17T17:21:16.422792Z",
     "start_time": "2021-05-17T17:21:16.419629Z"
    }
   },
   "outputs": [],
   "source": [
    "lang_lst = {\n",
    "    'ru',\n",
    "    'en',\n",
    "    'es'\n",
    "}"
   ]
  },
  {
   "cell_type": "code",
   "execution_count": 95,
   "metadata": {
    "ExecuteTime": {
     "end_time": "2021-05-17T17:31:31.792049Z",
     "start_time": "2021-05-17T17:30:52.630762Z"
    }
   },
   "outputs": [],
   "source": [
    "tfidf_dic = dict(((\"tfidf_\"+lang, vectorizer.fit_transform(df[df.lang == lang].desc)) for lang in lang_lst))"
   ]
  },
  {
   "cell_type": "code",
   "execution_count": 96,
   "metadata": {
    "ExecuteTime": {
     "end_time": "2021-05-17T17:31:50.587234Z",
     "start_time": "2021-05-17T17:31:50.582176Z"
    }
   },
   "outputs": [
    {
     "data": {
      "text/plain": [
       "{'tfidf_ru': <1231x10000 sparse matrix of type '<class 'numpy.float64'>'\n",
       " \twith 50809 stored elements in Compressed Sparse Row format>,\n",
       " 'tfidf_en': <24553x10000 sparse matrix of type '<class 'numpy.float64'>'\n",
       " \twith 2924562 stored elements in Compressed Sparse Row format>,\n",
       " 'tfidf_es': <1374x10000 sparse matrix of type '<class 'numpy.float64'>'\n",
       " \twith 219876 stored elements in Compressed Sparse Row format>}"
      ]
     },
     "execution_count": 96,
     "metadata": {},
     "output_type": "execute_result"
    }
   ],
   "source": [
    "tfidf_dic"
   ]
  },
  {
   "cell_type": "markdown",
   "metadata": {},
   "source": [
    "## Найдем похожие курсы"
   ]
  },
  {
   "cell_type": "code",
   "execution_count": 180,
   "metadata": {
    "ExecuteTime": {
     "end_time": "2021-05-17T18:23:01.496871Z",
     "start_time": "2021-05-17T18:23:01.282534Z"
    }
   },
   "outputs": [],
   "source": [
    "cos_m_dic = {}\n",
    "for lang, matrix in zip(lang_lst, tfidf_dic):\n",
    "    # По номерам строк найдем курсы к которым подбираем рекомендации\n",
    "    rec_id = df_rec_for[df_rec_for.lang == lang]['id'].tolist()\n",
    "    df_lang = df[df.lang == lang].reset_index()\n",
    "    rec_row_num = df_lang[df_lang.id.isin(rec_id)].index.values\n",
    "    \n",
    "    # добавим в словарь косинусную матрицу кажого языка\n",
    "    cos_m_dic['cos_m_' + lang]  = cosine_similarity(tfidf_dic[matrix], tfidf_dic[matrix][rec_row_num])"
   ]
  },
  {
   "cell_type": "code",
   "execution_count": 181,
   "metadata": {
    "ExecuteTime": {
     "end_time": "2021-05-17T18:23:03.651889Z",
     "start_time": "2021-05-17T18:23:03.645890Z"
    }
   },
   "outputs": [
    {
     "data": {
      "text/plain": [
       "(1231, 2)"
      ]
     },
     "execution_count": 181,
     "metadata": {},
     "output_type": "execute_result"
    }
   ],
   "source": [
    "cos_m_dic['cos_m_ru'].shape"
   ]
  },
  {
   "cell_type": "markdown",
   "metadata": {},
   "source": [
    "## Объединим с основным датасетом"
   ]
  },
  {
   "cell_type": "code",
   "execution_count": 182,
   "metadata": {
    "ExecuteTime": {
     "end_time": "2021-05-17T18:23:06.226277Z",
     "start_time": "2021-05-17T18:23:06.186681Z"
    }
   },
   "outputs": [],
   "source": [
    "result_dic = {}\n",
    "\n",
    "for lang, cos_m in zip(lang_lst, cos_m_dic):\n",
    "    # Загоним матрицу в df\n",
    "    df_cos = pd.DataFrame(cos_m_dic[cos_m])\n",
    "    \n",
    "    # Выделим основной датафрейм с нужным языком\n",
    "    df_lang = df[df.lang == lang].reset_index()\n",
    "    \n",
    "    # Объединим с основным датафреймом\n",
    "    result_dic['df_result' + lang] = df_lang.merge(df_cos, how='left', left_index=True, right_index=True)"
   ]
  },
  {
   "cell_type": "markdown",
   "metadata": {},
   "source": [
    "## Выберем ТОП10"
   ]
  },
  {
   "cell_type": "code",
   "execution_count": 195,
   "metadata": {
    "ExecuteTime": {
     "end_time": "2021-05-17T18:28:29.424919Z",
     "start_time": "2021-05-17T18:28:29.393114Z"
    },
    "scrolled": true
   },
   "outputs": [],
   "source": [
    "top_861 = (\n",
    "        result_dic[\"df_resultru\"]\n",
    "            .query('id != 861')\n",
    "            .sort_values(by=[0, 'name', 'id'], ascending=(False, True, True))\n",
    "            .head(10)\n",
    "            .id\n",
    "            .tolist()\n",
    "          )\n",
    "\n",
    "top_8751 = (\n",
    "        result_dic[\"df_resultru\"]\n",
    "            .query('id != 8751')\n",
    "            .sort_values(by=[1, 'name', 'id'], ascending=(False, True, True))\n",
    "            .head(10)\n",
    "            .id\n",
    "            .tolist()\n",
    "          )"
   ]
  },
  {
   "cell_type": "code",
   "execution_count": 209,
   "metadata": {
    "ExecuteTime": {
     "end_time": "2021-05-17T18:33:39.679174Z",
     "start_time": "2021-05-17T18:33:39.524027Z"
    }
   },
   "outputs": [],
   "source": [
    "top_4194 = (\n",
    "        result_dic[\"df_resulten\"]\n",
    "            .query('id != 4194')\n",
    "            .sort_values(by=[0, 'name', 'id'], ascending=(False, True, True))\n",
    "            .head(10)\n",
    "            .id\n",
    "            .tolist()\n",
    "          )\n",
    "\n",
    "top_19226 = (\n",
    "        result_dic[\"df_resulten\"]\n",
    "            .query('id != 19226')\n",
    "            .sort_values(by=[1, 'name', 'id'], ascending=(False, True, True))\n",
    "            .head(10)\n",
    "            .id\n",
    "            .tolist()\n",
    "          )"
   ]
  },
  {
   "cell_type": "code",
   "execution_count": 206,
   "metadata": {
    "ExecuteTime": {
     "end_time": "2021-05-17T18:32:44.956062Z",
     "start_time": "2021-05-17T18:32:44.924925Z"
    }
   },
   "outputs": [],
   "source": [
    "top_8974 = (\n",
    "        result_dic[\"df_resultes\"]\n",
    "            .query('id != 8974')\n",
    "            .sort_values(by=[0, 'name', 'id'], ascending=(False, True, True))\n",
    "            .head(10)\n",
    "            .id\n",
    "            .tolist()\n",
    "          )\n",
    "\n",
    "top_9038 = (\n",
    "        result_dic[\"df_resultes\"]\n",
    "            .query('id != 9038')\n",
    "            .sort_values(by=[1, 'name', 'id'], ascending=(False, True, True))\n",
    "            .head(10)\n",
    "            .id\n",
    "            .tolist()\n",
    "          )"
   ]
  },
  {
   "cell_type": "code",
   "execution_count": 201,
   "metadata": {
    "ExecuteTime": {
     "end_time": "2021-05-17T18:30:30.514622Z",
     "start_time": "2021-05-17T18:30:30.509451Z"
    }
   },
   "outputs": [
    {
     "data": {
      "text/plain": [
       "[4631, 7042, 6918, 11170, 6669, 7392, 17975, 4712, 12105, 7103]"
      ]
     },
     "execution_count": 201,
     "metadata": {},
     "output_type": "execute_result"
    }
   ],
   "source": [
    "top_4194"
   ]
  },
  {
   "cell_type": "markdown",
   "metadata": {},
   "source": [
    "## Сформируем результат"
   ]
  },
  {
   "cell_type": "code",
   "execution_count": 210,
   "metadata": {
    "ExecuteTime": {
     "end_time": "2021-05-17T18:33:44.203672Z",
     "start_time": "2021-05-17T18:33:44.198130Z"
    }
   },
   "outputs": [],
   "source": [
    "output_dic = {\n",
    "    \"861\": top_861,\n",
    "    \"8751\": top_8751, \n",
    "    \"4194\": top_4194,\n",
    "    \"19226\": top_19226,\n",
    "    \"8974\": top_8974,\n",
    "    \"9038\": top_9038,\n",
    "}"
   ]
  },
  {
   "cell_type": "code",
   "execution_count": 211,
   "metadata": {
    "ExecuteTime": {
     "end_time": "2021-05-17T18:33:44.944533Z",
     "start_time": "2021-05-17T18:33:44.938953Z"
    }
   },
   "outputs": [
    {
     "data": {
      "text/plain": [
       "{'861': [13687, 937, 1070, 25922, 17128, 7132, 8092, 54, 932, 5221],\n",
       " '8751': [21899, 1416, 17066, 817, 17238, 886, 812, 877, 1400, 49],\n",
       " '4194': [4631, 7042, 6918, 11170, 6669, 7392, 17975, 4712, 12105, 7103],\n",
       " '19226': [19228, 19217, 9932, 13298, 25789, 22989, 6488, 24333, 12684, 11557],\n",
       " '8974': [12238, 7014, 10004, 5690, 6874, 7144, 5346, 7121, 16781, 12094],\n",
       " '9038': [24614, 17943, 23301, 18724, 9558, 21227, 10668, 24286, 17840, 19018]}"
      ]
     },
     "execution_count": 211,
     "metadata": {},
     "output_type": "execute_result"
    }
   ],
   "source": [
    "output_dic"
   ]
  },
  {
   "cell_type": "code",
   "execution_count": 276,
   "metadata": {
    "ExecuteTime": {
     "end_time": "2021-05-17T19:28:21.525023Z",
     "start_time": "2021-05-17T19:28:21.521423Z"
    }
   },
   "outputs": [],
   "source": [
    "with open('../lab07.json', 'w') as outfile:\n",
    "    json.dump(output_dic, outfile)"
   ]
  },
  {
   "cell_type": "markdown",
   "metadata": {},
   "source": [
    "# Lab07s"
   ]
  },
  {
   "cell_type": "code",
   "execution_count": 430,
   "metadata": {
    "ExecuteTime": {
     "end_time": "2021-05-17T20:49:24.628210Z",
     "start_time": "2021-05-17T20:49:24.620832Z"
    }
   },
   "outputs": [],
   "source": [
    "df_rec_for2 = pd.DataFrame(\n",
    "   [\n",
    "       [3567, u'en', u'Adaptive Antennas and Phased Arrays'], \n",
    "       [4176, u'es', u'ERPs desde cero by Eugeni Vives'], \n",
    "       [11370, u'en', u'Marketing on YouTube'], \n",
    "       [21040, u'ru', u'\\u0423\\u043f\\u0440\\u0430\\u0432\\u043b\\u0435\\u043d\\u0438\\u0435 \\xab\\u0443\\u043c\\u043d\\u044b\\u043c \\u0434\\u043e\\u043c\\u043e\\u043c\\xbb'], \n",
    "       [22710, u'es', u'Aplicaciones creativas en el aula - Udemy'], \n",
    "       [26676, u'ru', u'\\u0410\\u043b\\u0433\\u043e\\u0440\\u0438\\u0442\\u043c\\u0438\\u0437\\u0430\\u0446\\u0438\\u044f. \\u0412\\u0432\\u0435\\u0434\\u0435\\u043d\\u0438\\u0435 \\u0432 \\u044f\\u0437\\u044b\\u043a \\u043f\\u0440\\u043e\\u0433\\u0440\\u0430\\u043c\\u043c\\u0438\\u0440\\u043e\\u0432\\u0430\\u043d\\u0438\\u044f \\u0421++']\n",
    "   ],\n",
    "    columns=['id','lang', 'name']\n",
    ")"
   ]
  },
  {
   "cell_type": "code",
   "execution_count": 431,
   "metadata": {
    "ExecuteTime": {
     "end_time": "2021-05-17T20:49:25.053237Z",
     "start_time": "2021-05-17T20:49:25.043256Z"
    },
    "scrolled": false
   },
   "outputs": [
    {
     "data": {
      "text/html": [
       "<div>\n",
       "<style scoped>\n",
       "    .dataframe tbody tr th:only-of-type {\n",
       "        vertical-align: middle;\n",
       "    }\n",
       "\n",
       "    .dataframe tbody tr th {\n",
       "        vertical-align: top;\n",
       "    }\n",
       "\n",
       "    .dataframe thead th {\n",
       "        text-align: right;\n",
       "    }\n",
       "</style>\n",
       "<table border=\"1\" class=\"dataframe\">\n",
       "  <thead>\n",
       "    <tr style=\"text-align: right;\">\n",
       "      <th></th>\n",
       "      <th>id</th>\n",
       "      <th>lang</th>\n",
       "      <th>name</th>\n",
       "    </tr>\n",
       "  </thead>\n",
       "  <tbody>\n",
       "    <tr>\n",
       "      <th>0</th>\n",
       "      <td>3567</td>\n",
       "      <td>en</td>\n",
       "      <td>Adaptive Antennas and Phased Arrays</td>\n",
       "    </tr>\n",
       "    <tr>\n",
       "      <th>1</th>\n",
       "      <td>4176</td>\n",
       "      <td>es</td>\n",
       "      <td>ERPs desde cero by Eugeni Vives</td>\n",
       "    </tr>\n",
       "    <tr>\n",
       "      <th>2</th>\n",
       "      <td>11370</td>\n",
       "      <td>en</td>\n",
       "      <td>Marketing on YouTube</td>\n",
       "    </tr>\n",
       "    <tr>\n",
       "      <th>3</th>\n",
       "      <td>21040</td>\n",
       "      <td>ru</td>\n",
       "      <td>Управление «умным домом»</td>\n",
       "    </tr>\n",
       "    <tr>\n",
       "      <th>4</th>\n",
       "      <td>22710</td>\n",
       "      <td>es</td>\n",
       "      <td>Aplicaciones creativas en el aula - Udemy</td>\n",
       "    </tr>\n",
       "    <tr>\n",
       "      <th>5</th>\n",
       "      <td>26676</td>\n",
       "      <td>ru</td>\n",
       "      <td>Алгоритмизация. Введение в язык программирован...</td>\n",
       "    </tr>\n",
       "  </tbody>\n",
       "</table>\n",
       "</div>"
      ],
      "text/plain": [
       "      id lang                                               name\n",
       "0   3567   en                Adaptive Antennas and Phased Arrays\n",
       "1   4176   es                    ERPs desde cero by Eugeni Vives\n",
       "2  11370   en                               Marketing on YouTube\n",
       "3  21040   ru                           Управление «умным домом»\n",
       "4  22710   es          Aplicaciones creativas en el aula - Udemy\n",
       "5  26676   ru  Алгоритмизация. Введение в язык программирован..."
      ]
     },
     "execution_count": 431,
     "metadata": {},
     "output_type": "execute_result"
    }
   ],
   "source": [
    "df_rec_for2"
   ]
  },
  {
   "cell_type": "code",
   "execution_count": 503,
   "metadata": {
    "ExecuteTime": {
     "end_time": "2021-05-17T21:33:40.303235Z",
     "start_time": "2021-05-17T21:33:40.290708Z"
    }
   },
   "outputs": [],
   "source": [
    "text = u'''\n",
    "Escribir aplicaciones iOS y Android completamente funcionales utilizando las técnicas de vanguardia de \n",
    "PhoneGap Este curso de video le muestra cómo construir una aplicación móvil completamente funcional con \n",
    "PhoneGap de forma rápida y fácil. Comenzará instalando PhoneGap antes de pasar a aprender cómo usar las \n",
    "herramientas relacionadas con PhoneGap para alojar, desarrollar, probar, depurar, compilar y lanzar \n",
    "bibliotecas de aplicaciones móviles. A continuación, profundizará en el núcleo del desarrollo de la \n",
    "aplicación PhoneGap aprendiendo a usar CSS3, HTML5, JavaScript/Framework y la API de PhoneGap desde la \n",
    "perspectiva de una aplicación móvil. Con la ayuda de ejemplos paso a paso, código fácilmente comprensible y \n",
    "demostraciones dinámicas, podrá introducir soluciones móviles de extremo a extremo que integran aplicaciones \n",
    "móviles en servicios externos. Al final del curso, usted sabrá cómo utilizar PhoneGap de una manera conveniente \n",
    "para escribir aplicaciones poderosas y fascinantes que se ejecutan en cualquier lugar, rápidamente. \n",
    "Sobre el autor Keyang Xiang es el líder tecnológico y el arquitecto de aplicaciones en el departamento \n",
    "de Servicio Profesional de FeedHenry Ltd. Recibió su maestría en Ingeniería de Software de la Universidad \n",
    "de Limerick. Ha estado trabajando como ingeniero de software por más de 5 años. Sus áreas de trabajo incluyen \n",
    "principalmente soluciones de aplicaciones empresariales móviles, ingeniería de aplicaciones móviles, desarrollo \n",
    "de aplicaciones web, computación en la nube y desarrollo de soluciones empresariales basadas en Java o .\n",
    "Net. Después de disfrutar de su vida adolescente en China, ahora vive en Irlanda y puede ser contactado en \n",
    "http://keyangxiang com. El empleador de Keyang, FeedHenry, proporciona una plataforma de aplicaciones \n",
    "móviles a las empresas para simplificar sus iniciativas móviles y capacitarlas para interactuar de manera más \n",
    "efectiva con los empleados, clientes y socios a través del canal móvil. La plataforma está basada en la nube y \n",
    "admite el desarrollo de aplicaciones, la integración con sistemas backend y la implementación en múltiples \n",
    "dispositivos, así como la gestión de aplicaciones y la generación de informes. ¿Cuáles son los requisitos? \n",
    "Este curso se divide en dos grandes secciones. Primero cubrimos cómo usar la plataforma PhoneGap: generar un \n",
    "binario nativo móvil que envuelve una aplicación web y luego usar las API de PhoneGap para acceder a funciones \n",
    "nativas. Luego trabajamos en optimizar sus habilidades web y discutir las mejores prácticas en el diseño de \n",
    "código, todo mientras desarrollamos una aplicación interesante en tiempo de ejecución. ¿Qué voy a obtener \n",
    "de este curso? Más de 19 conferencias y 2 horas de contenido! Obtenga eficiencia en el desarrollo de aplicaciones \n",
    "JavaScript bien estructuradas Use la herramienta Weinre para depurar y probar eficazmente las aplicaciones \n",
    "móviles de PhoneGap Implementen la comunicación del lado del servidor sin problemas utilizando AJAX y Node.js \n",
    "Hacer uso de la última Sencha Touch y jQuery Mobile frameworks para construir aplicaciones atractivas \n",
    "Comprender cómo invocar PhoneGap API y plugins de Cordova para invocar la funcionalidad nativa Maestro \n",
    "avanzado HTML5 y CSS3 para una mejor interactividad de la aplicación ¿Cuál es el público objetivo? Este \n",
    "curso es para diseñadores y desarrolladores web que desean crear aplicaciones iOS y Android utilizando \n",
    "las tecnologías que ya conocen. Este curso te ayudará a poner tus habilidades HTML, CSS y JavaScript \n",
    "para construir y enviar poderosas aplicaciones móviles. SECCIÓN 1: Inicio de su viaje Introducción a \n",
    "PhoneGapPhoneGap: Ventajas y Desventajasesección 2: Primera Aplicación Nprimer proyecto Phonegapprevisualizar \n",
    "y Desplegar un proyecto Phonegapsección 3: Configurarlo Installing the Development Tool SetDebugging \n",
    "the PhoneGap App Using ToolsUsing Git to Manage the Source CodeSECCIÓN 4: Interacciones Enriquecidas \n",
    "con PhoneGap, HTML5 y CSS3\\nHTML5 and the PhoneGap AppCSS and CSS3SECCIÓN 5: The App Framework and \n",
    "JavaScript Practices Introducing the App Framworka Demo on Using a Sencha Touch Framworka Demo on \n",
    "Using a jQuery Mobile Framworkjavascript Practicesection 6: A Demo on the PhoneGap API\\nUse Cordova 3 \n",
    "Plugins and APIsImporting Third-Party Plugins to Cordova 2 ProjectsSECTION 7: Servers and Making the Mobile \n",
    "Application Powerful Introduction to the Server-side StackA Demo on Using AJAX to Communicate with the \n",
    "Node.JS ServerHost Server-side Stack en CloudSECTION 8: Un Ejemplo completo Demo en una Aplicación de Chat Simple'''"
   ]
  },
  {
   "cell_type": "code",
   "execution_count": 506,
   "metadata": {
    "ExecuteTime": {
     "end_time": "2021-05-17T21:33:52.661199Z",
     "start_time": "2021-05-17T21:33:52.645364Z"
    }
   },
   "outputs": [],
   "source": [
    "df.loc[22710,'desc'] = text"
   ]
  },
  {
   "cell_type": "code",
   "execution_count": 533,
   "metadata": {
    "ExecuteTime": {
     "end_time": "2021-05-20T03:19:20.997136Z",
     "start_time": "2021-05-20T03:19:20.982806Z"
    }
   },
   "outputs": [
    {
     "data": {
      "text/plain": [
       "array([' Herramientas tecnológicas Este curso esta diseñado para entender porque en la actualidad es necesario partir de una adecuación didáctica y trabajar desde una flexibilización tecnológica. En los videos incluidos en este curso entenderemos que el aprendizaje en la red, hoy es conectado, participativo y social, aunque exige un desarrollo de estrategias personales de organización, gestión de la información y acceso al conocimiento. El objetivo de este curso es entender que enseñar no es construir contenidos, ni transmitir información, sino crear entornos donde aprender sea posible y estimulante. What are the requirements? Personas interesadas en generar estrategias didácticas para su aplicación en el aula Personas que dessen generar un entorno de aprendizaje exitoso What am I going to get from this course? Over 17 lectures and 52 mins of content! Crear un entorno exitoso de aprendizaje Generar estrategias para trabajar en el aula de manera didáctica Adquirir una flexibilización tecnológica Analizar los entornos para la aplicación de estrategias adecuadas What is the target audience? Personas interesadas en mejorar sus técnicas de aprendizaje y enseñanza Docentes que deseen estar actualizados y tener una preparación globalizada. Docentes Estudiantes de Educación Maestros Educadores Pedagogos Alumnos SECTION 1: Contextualización\\nContextualizaciónAplicaciones creativas (video)Educación y TecnologíaExperiencias en la redSECTION 2: Multimedia Educativo\\nMultimedia y aprendizajeCono del AprendizajePodcastScreencastHTML5SECTION 3: Herramientas creativas para la creación de videos\\nMovenoteScreenRVoddioKineMIxSECTION 4: Herramientas creativas para la creación de audio\\nHokusaiAudiomemosAudacityGarage Band'],\n",
       "      dtype=object)"
      ]
     },
     "execution_count": 533,
     "metadata": {},
     "output_type": "execute_result"
    }
   ],
   "source": [
    "df[df.id == 22710]['desc'].values"
   ]
  },
  {
   "cell_type": "markdown",
   "metadata": {},
   "source": [
    "## Снова  найдем похожие курсы"
   ]
  },
  {
   "cell_type": "code",
   "execution_count": 517,
   "metadata": {
    "ExecuteTime": {
     "end_time": "2021-05-17T21:36:26.259337Z",
     "start_time": "2021-05-17T21:36:16.290481Z"
    }
   },
   "outputs": [],
   "source": [
    "result_dic2 = {}\n",
    "for lang in lang_lst:\n",
    "    # Список ид курсов к которым нужно рекомендовать\n",
    "    rec_id = df_rec_for2[df_rec_for2.lang == lang].id.tolist()\n",
    "    \n",
    "    # Языковой датафрейм со сброшенными индексами\n",
    "    df_lang = df[df.lang == lang].reset_index()\n",
    "    \n",
    "    # Строки целевых курсов в датафрейме\n",
    "    rec_row_num = df_lang[df_lang.id.isin(rec_id)].index.values\n",
    "    \n",
    "    # Зададим векторайзер\n",
    "    vectorizer = TfidfVectorizer(stop_words=stopwords.words('english'))\n",
    "    \n",
    "    # Создадим матрицу TF-IDF\n",
    "    matrix = vectorizer.fit_transform(df_lang.desc)\n",
    "    \n",
    "    # Измерим косинусные расстояния\n",
    "    cos_m  = cosine_similarity(matrix, matrix[rec_row_num])\n",
    "    \n",
    "    # Создадим df с расстояниями\n",
    "    df_cos = pd.DataFrame(cos_m)\n",
    "    \n",
    "    # Добавим его к df с данными\n",
    "    result_dic2['df_result' + lang] = df_lang.merge(df_cos, how='left', left_index=True, right_index=True)"
   ]
  },
  {
   "cell_type": "markdown",
   "metadata": {
    "ExecuteTime": {
     "end_time": "2021-05-17T18:44:41.907173Z",
     "start_time": "2021-05-17T18:44:41.870453Z"
    }
   },
   "source": [
    "## Выберем ТОП10"
   ]
  },
  {
   "cell_type": "code",
   "execution_count": 518,
   "metadata": {
    "ExecuteTime": {
     "end_time": "2021-05-17T21:36:38.435886Z",
     "start_time": "2021-05-17T21:36:38.391326Z"
    }
   },
   "outputs": [],
   "source": [
    "top_21040 = (\n",
    "        result_dic2[\"df_resultru\"]\n",
    "            .query('id != 21040')\n",
    "            .sort_values(by=[0, 'name', 'id'], ascending=(False, True, True))\n",
    "            .head(10)\n",
    "            .id\n",
    "            .tolist()\n",
    "          )\n",
    "\n",
    "top_26676 = (\n",
    "        result_dic2[\"df_resultru\"]\n",
    "            .query('id != 26676')\n",
    "            .sort_values(by=[1, 'name', 'id'], ascending=(False, True, True))\n",
    "            .head(10)\n",
    "            .id\n",
    "            .tolist()\n",
    "          )"
   ]
  },
  {
   "cell_type": "code",
   "execution_count": 519,
   "metadata": {
    "ExecuteTime": {
     "end_time": "2021-05-17T21:36:39.422383Z",
     "start_time": "2021-05-17T21:36:39.192728Z"
    }
   },
   "outputs": [],
   "source": [
    "top_3567 = (\n",
    "        result_dic2[\"df_resulten\"]\n",
    "            .query('id != 3567')\n",
    "            .sort_values(by=[0, 'name', 'id'], ascending=(False, True, True))\n",
    "            .head(10)\n",
    "            .id\n",
    "            .tolist()\n",
    "          )\n",
    "\n",
    "top_11370 = (\n",
    "        result_dic2[\"df_resulten\"]\n",
    "            .query('id != 11370')\n",
    "            .sort_values(by=[1, 'name', 'id'], ascending=(False, True, True))\n",
    "            .head(10)\n",
    "            .id\n",
    "            .tolist()\n",
    "          )"
   ]
  },
  {
   "cell_type": "code",
   "execution_count": 520,
   "metadata": {
    "ExecuteTime": {
     "end_time": "2021-05-17T21:36:41.114227Z",
     "start_time": "2021-05-17T21:36:41.076587Z"
    }
   },
   "outputs": [],
   "source": [
    "top_4176 = (\n",
    "        result_dic2[\"df_resultes\"]\n",
    "            .query('id != 4176')\n",
    "            .sort_values(by=[0, 'name', 'id'], ascending=(False, True, True))\n",
    "            .head(10)\n",
    "            .id\n",
    "            .tolist()\n",
    "          )\n",
    "\n",
    "top_22710 = (\n",
    "        result_dic2[\"df_resultes\"]\n",
    "            .query('id != 22710')\n",
    "            .sort_values(by=[1, 'name', 'id'], ascending=(False, True, True))\n",
    "            .head(10)\n",
    "            .id\n",
    "            .tolist()\n",
    "          )"
   ]
  },
  {
   "cell_type": "markdown",
   "metadata": {},
   "source": [
    "## Выгрузим результат"
   ]
  },
  {
   "cell_type": "code",
   "execution_count": 524,
   "metadata": {
    "ExecuteTime": {
     "end_time": "2021-05-17T21:36:53.941443Z",
     "start_time": "2021-05-17T21:36:53.936402Z"
    }
   },
   "outputs": [],
   "source": [
    "output_dic2 = {\n",
    "    \"21040\": top_21040,\n",
    "    \"26676\": top_26676, \n",
    "    \"3567\": top_3567,\n",
    "    \"11370\": top_11370,\n",
    "    \"4176\": top_4176,\n",
    "    \"22710\": top22710_04,\n",
    "}"
   ]
  },
  {
   "cell_type": "code",
   "execution_count": 523,
   "metadata": {
    "ExecuteTime": {
     "end_time": "2021-05-17T21:36:52.325487Z",
     "start_time": "2021-05-17T21:36:52.321906Z"
    }
   },
   "outputs": [],
   "source": [
    "top22710_04 = [19330, 10447, 16488, 17200, 160, 468, 23357, 24221, 21337, 22284]"
   ]
  },
  {
   "cell_type": "code",
   "execution_count": 525,
   "metadata": {
    "ExecuteTime": {
     "end_time": "2021-05-17T21:36:56.221706Z",
     "start_time": "2021-05-17T21:36:56.216272Z"
    }
   },
   "outputs": [
    {
     "data": {
      "text/plain": [
       "{'21040': [871, 13479, 21987, 767, 924, 18772, 22055, 25830, 21421, 21042],\n",
       " '26676': [18331, 1236, 1233, 1001, 8212, 1328, 20356, 802, 20317, 807],\n",
       " '3567': [13798, 3095, 26723, 3566, 2286, 3016, 3226, 11364, 195, 524],\n",
       " '11370': [11600, 10389, 12126, 25820, 25819, 16906, 4638, 5199, 25816, 12820],\n",
       " '4176': [10160, 3660, 8098, 23350, 21400, 7944, 20404, 23629, 16929, 6864],\n",
       " '22710': [19330, 10447, 16488, 17200, 160, 468, 23357, 24221, 21337, 22284]}"
      ]
     },
     "execution_count": 525,
     "metadata": {},
     "output_type": "execute_result"
    }
   ],
   "source": [
    "output_dic2"
   ]
  },
  {
   "cell_type": "code",
   "execution_count": 526,
   "metadata": {
    "ExecuteTime": {
     "end_time": "2021-05-17T21:36:58.461379Z",
     "start_time": "2021-05-17T21:36:58.457948Z"
    }
   },
   "outputs": [],
   "source": [
    "with open('../lab07s.json', 'w') as outfile:\n",
    "    json.dump(output_dic2, outfile)"
   ]
  },
  {
   "cell_type": "code",
   "execution_count": null,
   "metadata": {},
   "outputs": [],
   "source": []
  }
 ],
 "metadata": {
  "kernelspec": {
   "display_name": "Python 3",
   "language": "python",
   "name": "python3"
  },
  "language_info": {
   "codemirror_mode": {
    "name": "ipython",
    "version": 3
   },
   "file_extension": ".py",
   "mimetype": "text/x-python",
   "name": "python",
   "nbconvert_exporter": "python",
   "pygments_lexer": "ipython3",
   "version": "3.6.5"
  },
  "toc": {
   "base_numbering": 1,
   "nav_menu": {},
   "number_sections": true,
   "sideBar": true,
   "skip_h1_title": false,
   "title_cell": "Table of Contents",
   "title_sidebar": "Contents",
   "toc_cell": false,
   "toc_position": {},
   "toc_section_display": true,
   "toc_window_display": false
  }
 },
 "nbformat": 4,
 "nbformat_minor": 2
}
