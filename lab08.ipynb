{
 "cells": [
  {
   "cell_type": "markdown",
   "metadata": {
    "ExecuteTime": {
     "end_time": "2021-05-28T16:31:20.035691Z",
     "start_time": "2021-05-28T16:31:19.217501Z"
    }
   },
   "source": [
    "# Лаба 8. Рекомендательная система фильмов MovieLens "
   ]
  },
  {
   "cell_type": "markdown",
   "metadata": {},
   "source": [
    "## User-User Recommender System "
   ]
  },
  {
   "cell_type": "code",
   "execution_count": null,
   "metadata": {},
   "outputs": [],
   "source": [
    "import pandas as pd\n",
    "import numpy as np\n",
    "from math import sqrt\n",
    "import json\n",
    "import pandas as pd\n",
    "import numpy as np\n",
    "from math import sqrt\n",
    "import json\n",
    "import sys\n"
   ]
  },
  {
   "cell_type": "markdown",
   "metadata": {},
   "source": [
    "## Константы из ЛК"
   ]
  },
  {
   "cell_type": "code",
   "execution_count": 45,
   "metadata": {
    "ExecuteTime": {
     "end_time": "2021-05-25T17:32:06.008112Z",
     "start_time": "2021-05-25T17:32:06.004285Z"
    }
   },
   "outputs": [],
   "source": [
    "id_to_predict = 524"
   ]
  },
  {
   "cell_type": "markdown",
   "metadata": {},
   "source": [
    "## Загрузим датасеты"
   ]
  },
  {
   "cell_type": "markdown",
   "metadata": {},
   "source": [
    "`u.data` содержит все оценки"
   ]
  },
  {
   "cell_type": "code",
   "execution_count": 5,
   "metadata": {
    "ExecuteTime": {
     "end_time": "2021-05-28T16:34:16.361644Z",
     "start_time": "2021-05-28T16:34:16.300070Z"
    }
   },
   "outputs": [],
   "source": [
    "df_data = pd.read_csv(\n",
    "    './ml-100k/u.data', \n",
    "    delimiter='\\t', \n",
    "    header=None, \n",
    "    names=['user_id', 'item_id','rating','timestamp']\n",
    ")"
   ]
  },
  {
   "cell_type": "code",
   "execution_count": 6,
   "metadata": {
    "ExecuteTime": {
     "end_time": "2021-05-28T16:34:17.009375Z",
     "start_time": "2021-05-28T16:34:16.991676Z"
    },
    "scrolled": false
   },
   "outputs": [
    {
     "data": {
      "text/html": [
       "<div>\n",
       "<style scoped>\n",
       "    .dataframe tbody tr th:only-of-type {\n",
       "        vertical-align: middle;\n",
       "    }\n",
       "\n",
       "    .dataframe tbody tr th {\n",
       "        vertical-align: top;\n",
       "    }\n",
       "\n",
       "    .dataframe thead th {\n",
       "        text-align: right;\n",
       "    }\n",
       "</style>\n",
       "<table border=\"1\" class=\"dataframe\">\n",
       "  <thead>\n",
       "    <tr style=\"text-align: right;\">\n",
       "      <th></th>\n",
       "      <th>user_id</th>\n",
       "      <th>item_id</th>\n",
       "      <th>rating</th>\n",
       "      <th>timestamp</th>\n",
       "    </tr>\n",
       "  </thead>\n",
       "  <tbody>\n",
       "    <tr>\n",
       "      <th>0</th>\n",
       "      <td>196</td>\n",
       "      <td>242</td>\n",
       "      <td>3</td>\n",
       "      <td>881250949</td>\n",
       "    </tr>\n",
       "    <tr>\n",
       "      <th>1</th>\n",
       "      <td>186</td>\n",
       "      <td>302</td>\n",
       "      <td>3</td>\n",
       "      <td>891717742</td>\n",
       "    </tr>\n",
       "    <tr>\n",
       "      <th>2</th>\n",
       "      <td>22</td>\n",
       "      <td>377</td>\n",
       "      <td>1</td>\n",
       "      <td>878887116</td>\n",
       "    </tr>\n",
       "    <tr>\n",
       "      <th>3</th>\n",
       "      <td>244</td>\n",
       "      <td>51</td>\n",
       "      <td>2</td>\n",
       "      <td>880606923</td>\n",
       "    </tr>\n",
       "    <tr>\n",
       "      <th>4</th>\n",
       "      <td>166</td>\n",
       "      <td>346</td>\n",
       "      <td>1</td>\n",
       "      <td>886397596</td>\n",
       "    </tr>\n",
       "    <tr>\n",
       "      <th>...</th>\n",
       "      <td>...</td>\n",
       "      <td>...</td>\n",
       "      <td>...</td>\n",
       "      <td>...</td>\n",
       "    </tr>\n",
       "    <tr>\n",
       "      <th>99995</th>\n",
       "      <td>880</td>\n",
       "      <td>476</td>\n",
       "      <td>3</td>\n",
       "      <td>880175444</td>\n",
       "    </tr>\n",
       "    <tr>\n",
       "      <th>99996</th>\n",
       "      <td>716</td>\n",
       "      <td>204</td>\n",
       "      <td>5</td>\n",
       "      <td>879795543</td>\n",
       "    </tr>\n",
       "    <tr>\n",
       "      <th>99997</th>\n",
       "      <td>276</td>\n",
       "      <td>1090</td>\n",
       "      <td>1</td>\n",
       "      <td>874795795</td>\n",
       "    </tr>\n",
       "    <tr>\n",
       "      <th>99998</th>\n",
       "      <td>13</td>\n",
       "      <td>225</td>\n",
       "      <td>2</td>\n",
       "      <td>882399156</td>\n",
       "    </tr>\n",
       "    <tr>\n",
       "      <th>99999</th>\n",
       "      <td>12</td>\n",
       "      <td>203</td>\n",
       "      <td>3</td>\n",
       "      <td>879959583</td>\n",
       "    </tr>\n",
       "  </tbody>\n",
       "</table>\n",
       "<p>100000 rows × 4 columns</p>\n",
       "</div>"
      ],
      "text/plain": [
       "       user_id  item_id  rating  timestamp\n",
       "0          196      242       3  881250949\n",
       "1          186      302       3  891717742\n",
       "2           22      377       1  878887116\n",
       "3          244       51       2  880606923\n",
       "4          166      346       1  886397596\n",
       "...        ...      ...     ...        ...\n",
       "99995      880      476       3  880175444\n",
       "99996      716      204       5  879795543\n",
       "99997      276     1090       1  874795795\n",
       "99998       13      225       2  882399156\n",
       "99999       12      203       3  879959583\n",
       "\n",
       "[100000 rows x 4 columns]"
      ]
     },
     "execution_count": 6,
     "metadata": {},
     "output_type": "execute_result"
    }
   ],
   "source": [
    "df_data"
   ]
  },
  {
   "cell_type": "markdown",
   "metadata": {},
   "source": [
    "`u.item` — список всех фильмов"
   ]
  },
  {
   "cell_type": "code",
   "execution_count": 9,
   "metadata": {
    "ExecuteTime": {
     "end_time": "2021-05-28T16:31:29.728986Z",
     "start_time": "2021-05-28T16:31:29.718813Z"
    }
   },
   "outputs": [],
   "source": [
    "item_col_lst = [\n",
    "    \n",
    "    'movie_id',\n",
    "    'movie_title',\n",
    "    'release_date',\n",
    "    'video_release_date',\n",
    "    'imdb_url',\n",
    "    'unknown',\n",
    "    'action',\n",
    "    'adventure',\n",
    "    'animation',\n",
    "    'children',\n",
    "    'comedy',\n",
    "    'crime',\n",
    "    'documentary',\n",
    "    'drama',\n",
    "    'fantasy',\n",
    "    'film-Noir', \n",
    "    'horror',\n",
    "    'musical',\n",
    "    'mystery',\n",
    "    'romance',\n",
    "    'sci-Fi',\n",
    "    'thriller',\n",
    "    'war',\n",
    "    'western',\n",
    "\n",
    "]"
   ]
  },
  {
   "cell_type": "code",
   "execution_count": 36,
   "metadata": {},
   "outputs": [],
   "source": [
    "sys.stdin = open('./ml-100k/u.item', 'r')\n",
    "df_item  = []\n",
    "\n",
    "for ext_line, line in enumerate(sys.stdin):\n",
    "    try:\n",
    "        part1, part2 = line.strip().split('||')\n",
    "        item, name, item_date = part1.strip().split('|')    \n",
    "        df_item.append([item, name, item_date])\n",
    "    except:\n",
    "        pass\n",
    "    \n",
    "df_item = pd.DataFrame(df_item, columns=['movie_id', 'name', 'item_date'])  \n",
    "df_item['movie_id'] = df_item['movie_id'].astype('int')"
   ]
  },
  {
   "cell_type": "code",
   "execution_count": null,
   "metadata": {
    "ExecuteTime": {
     "end_time": "2021-05-28T16:31:32.149656Z",
     "start_time": "2021-05-28T16:31:32.133392Z"
    },
    "scrolled": true
   },
   "outputs": [],
   "source": [
    "df_item = pd.read_csv(\n",
    "    './ml-100k/u.item', \n",
    "    delimiter='|', \n",
    "    header=None, \n",
    "    names=item_col_lst,\n",
    "    index_col=None\n",
    ")"
   ]
  },
  {
   "cell_type": "code",
   "execution_count": 6,
   "metadata": {
    "ExecuteTime": {
     "end_time": "2021-05-28T16:31:32.851410Z",
     "start_time": "2021-05-28T16:31:32.792824Z"
    },
    "scrolled": true
   },
   "outputs": [
    {
     "data": {
      "text/html": [
       "<div>\n",
       "<style scoped>\n",
       "    .dataframe tbody tr th:only-of-type {\n",
       "        vertical-align: middle;\n",
       "    }\n",
       "\n",
       "    .dataframe tbody tr th {\n",
       "        vertical-align: top;\n",
       "    }\n",
       "\n",
       "    .dataframe thead th {\n",
       "        text-align: right;\n",
       "    }\n",
       "</style>\n",
       "<table border=\"1\" class=\"dataframe\">\n",
       "  <thead>\n",
       "    <tr style=\"text-align: right;\">\n",
       "      <th></th>\n",
       "      <th>movie_id</th>\n",
       "      <th>movie_title</th>\n",
       "      <th>release_date</th>\n",
       "      <th>video_release_date</th>\n",
       "      <th>imdb_url</th>\n",
       "      <th>unknown</th>\n",
       "      <th>action</th>\n",
       "      <th>adventure</th>\n",
       "      <th>animation</th>\n",
       "      <th>children</th>\n",
       "      <th>...</th>\n",
       "      <th>fantasy</th>\n",
       "      <th>film-Noir</th>\n",
       "      <th>horror</th>\n",
       "      <th>musical</th>\n",
       "      <th>mystery</th>\n",
       "      <th>romance</th>\n",
       "      <th>sci-Fi</th>\n",
       "      <th>thriller</th>\n",
       "      <th>war</th>\n",
       "      <th>western</th>\n",
       "    </tr>\n",
       "  </thead>\n",
       "  <tbody>\n",
       "    <tr>\n",
       "      <th>0</th>\n",
       "      <td>1</td>\n",
       "      <td>Toy Story (1995)</td>\n",
       "      <td>01-Jan-1995</td>\n",
       "      <td>NaN</td>\n",
       "      <td>http://us.imdb.com/M/title-exact?Toy%20Story%2...</td>\n",
       "      <td>0</td>\n",
       "      <td>0</td>\n",
       "      <td>0</td>\n",
       "      <td>1</td>\n",
       "      <td>1</td>\n",
       "      <td>...</td>\n",
       "      <td>0</td>\n",
       "      <td>0</td>\n",
       "      <td>0</td>\n",
       "      <td>0</td>\n",
       "      <td>0</td>\n",
       "      <td>0</td>\n",
       "      <td>0</td>\n",
       "      <td>0</td>\n",
       "      <td>0</td>\n",
       "      <td>0</td>\n",
       "    </tr>\n",
       "    <tr>\n",
       "      <th>1</th>\n",
       "      <td>2</td>\n",
       "      <td>GoldenEye (1995)</td>\n",
       "      <td>01-Jan-1995</td>\n",
       "      <td>NaN</td>\n",
       "      <td>http://us.imdb.com/M/title-exact?GoldenEye%20(...</td>\n",
       "      <td>0</td>\n",
       "      <td>1</td>\n",
       "      <td>1</td>\n",
       "      <td>0</td>\n",
       "      <td>0</td>\n",
       "      <td>...</td>\n",
       "      <td>0</td>\n",
       "      <td>0</td>\n",
       "      <td>0</td>\n",
       "      <td>0</td>\n",
       "      <td>0</td>\n",
       "      <td>0</td>\n",
       "      <td>0</td>\n",
       "      <td>1</td>\n",
       "      <td>0</td>\n",
       "      <td>0</td>\n",
       "    </tr>\n",
       "    <tr>\n",
       "      <th>2</th>\n",
       "      <td>3</td>\n",
       "      <td>Four Rooms (1995)</td>\n",
       "      <td>01-Jan-1995</td>\n",
       "      <td>NaN</td>\n",
       "      <td>http://us.imdb.com/M/title-exact?Four%20Rooms%...</td>\n",
       "      <td>0</td>\n",
       "      <td>0</td>\n",
       "      <td>0</td>\n",
       "      <td>0</td>\n",
       "      <td>0</td>\n",
       "      <td>...</td>\n",
       "      <td>0</td>\n",
       "      <td>0</td>\n",
       "      <td>0</td>\n",
       "      <td>0</td>\n",
       "      <td>0</td>\n",
       "      <td>0</td>\n",
       "      <td>0</td>\n",
       "      <td>1</td>\n",
       "      <td>0</td>\n",
       "      <td>0</td>\n",
       "    </tr>\n",
       "    <tr>\n",
       "      <th>3</th>\n",
       "      <td>4</td>\n",
       "      <td>Get Shorty (1995)</td>\n",
       "      <td>01-Jan-1995</td>\n",
       "      <td>NaN</td>\n",
       "      <td>http://us.imdb.com/M/title-exact?Get%20Shorty%...</td>\n",
       "      <td>0</td>\n",
       "      <td>1</td>\n",
       "      <td>0</td>\n",
       "      <td>0</td>\n",
       "      <td>0</td>\n",
       "      <td>...</td>\n",
       "      <td>0</td>\n",
       "      <td>0</td>\n",
       "      <td>0</td>\n",
       "      <td>0</td>\n",
       "      <td>0</td>\n",
       "      <td>0</td>\n",
       "      <td>0</td>\n",
       "      <td>0</td>\n",
       "      <td>0</td>\n",
       "      <td>0</td>\n",
       "    </tr>\n",
       "    <tr>\n",
       "      <th>4</th>\n",
       "      <td>5</td>\n",
       "      <td>Copycat (1995)</td>\n",
       "      <td>01-Jan-1995</td>\n",
       "      <td>NaN</td>\n",
       "      <td>http://us.imdb.com/M/title-exact?Copycat%20(1995)</td>\n",
       "      <td>0</td>\n",
       "      <td>0</td>\n",
       "      <td>0</td>\n",
       "      <td>0</td>\n",
       "      <td>0</td>\n",
       "      <td>...</td>\n",
       "      <td>0</td>\n",
       "      <td>0</td>\n",
       "      <td>0</td>\n",
       "      <td>0</td>\n",
       "      <td>0</td>\n",
       "      <td>0</td>\n",
       "      <td>0</td>\n",
       "      <td>1</td>\n",
       "      <td>0</td>\n",
       "      <td>0</td>\n",
       "    </tr>\n",
       "    <tr>\n",
       "      <th>...</th>\n",
       "      <td>...</td>\n",
       "      <td>...</td>\n",
       "      <td>...</td>\n",
       "      <td>...</td>\n",
       "      <td>...</td>\n",
       "      <td>...</td>\n",
       "      <td>...</td>\n",
       "      <td>...</td>\n",
       "      <td>...</td>\n",
       "      <td>...</td>\n",
       "      <td>...</td>\n",
       "      <td>...</td>\n",
       "      <td>...</td>\n",
       "      <td>...</td>\n",
       "      <td>...</td>\n",
       "      <td>...</td>\n",
       "      <td>...</td>\n",
       "      <td>...</td>\n",
       "      <td>...</td>\n",
       "      <td>...</td>\n",
       "      <td>...</td>\n",
       "    </tr>\n",
       "    <tr>\n",
       "      <th>1677</th>\n",
       "      <td>1678</td>\n",
       "      <td>Mat' i syn (1997)</td>\n",
       "      <td>06-Feb-1998</td>\n",
       "      <td>NaN</td>\n",
       "      <td>http://us.imdb.com/M/title-exact?Mat%27+i+syn+...</td>\n",
       "      <td>0</td>\n",
       "      <td>0</td>\n",
       "      <td>0</td>\n",
       "      <td>0</td>\n",
       "      <td>0</td>\n",
       "      <td>...</td>\n",
       "      <td>0</td>\n",
       "      <td>0</td>\n",
       "      <td>0</td>\n",
       "      <td>0</td>\n",
       "      <td>0</td>\n",
       "      <td>0</td>\n",
       "      <td>0</td>\n",
       "      <td>0</td>\n",
       "      <td>0</td>\n",
       "      <td>0</td>\n",
       "    </tr>\n",
       "    <tr>\n",
       "      <th>1678</th>\n",
       "      <td>1679</td>\n",
       "      <td>B. Monkey (1998)</td>\n",
       "      <td>06-Feb-1998</td>\n",
       "      <td>NaN</td>\n",
       "      <td>http://us.imdb.com/M/title-exact?B%2E+Monkey+(...</td>\n",
       "      <td>0</td>\n",
       "      <td>0</td>\n",
       "      <td>0</td>\n",
       "      <td>0</td>\n",
       "      <td>0</td>\n",
       "      <td>...</td>\n",
       "      <td>0</td>\n",
       "      <td>0</td>\n",
       "      <td>0</td>\n",
       "      <td>0</td>\n",
       "      <td>0</td>\n",
       "      <td>1</td>\n",
       "      <td>0</td>\n",
       "      <td>1</td>\n",
       "      <td>0</td>\n",
       "      <td>0</td>\n",
       "    </tr>\n",
       "    <tr>\n",
       "      <th>1679</th>\n",
       "      <td>1680</td>\n",
       "      <td>Sliding Doors (1998)</td>\n",
       "      <td>01-Jan-1998</td>\n",
       "      <td>NaN</td>\n",
       "      <td>http://us.imdb.com/Title?Sliding+Doors+(1998)</td>\n",
       "      <td>0</td>\n",
       "      <td>0</td>\n",
       "      <td>0</td>\n",
       "      <td>0</td>\n",
       "      <td>0</td>\n",
       "      <td>...</td>\n",
       "      <td>0</td>\n",
       "      <td>0</td>\n",
       "      <td>0</td>\n",
       "      <td>0</td>\n",
       "      <td>0</td>\n",
       "      <td>1</td>\n",
       "      <td>0</td>\n",
       "      <td>0</td>\n",
       "      <td>0</td>\n",
       "      <td>0</td>\n",
       "    </tr>\n",
       "    <tr>\n",
       "      <th>1680</th>\n",
       "      <td>1681</td>\n",
       "      <td>You So Crazy (1994)</td>\n",
       "      <td>01-Jan-1994</td>\n",
       "      <td>NaN</td>\n",
       "      <td>http://us.imdb.com/M/title-exact?You%20So%20Cr...</td>\n",
       "      <td>0</td>\n",
       "      <td>0</td>\n",
       "      <td>0</td>\n",
       "      <td>0</td>\n",
       "      <td>0</td>\n",
       "      <td>...</td>\n",
       "      <td>0</td>\n",
       "      <td>0</td>\n",
       "      <td>0</td>\n",
       "      <td>0</td>\n",
       "      <td>0</td>\n",
       "      <td>0</td>\n",
       "      <td>0</td>\n",
       "      <td>0</td>\n",
       "      <td>0</td>\n",
       "      <td>0</td>\n",
       "    </tr>\n",
       "    <tr>\n",
       "      <th>1681</th>\n",
       "      <td>1682</td>\n",
       "      <td>Scream of Stone (Schrei aus Stein) (1991)</td>\n",
       "      <td>08-Mar-1996</td>\n",
       "      <td>NaN</td>\n",
       "      <td>http://us.imdb.com/M/title-exact?Schrei%20aus%...</td>\n",
       "      <td>0</td>\n",
       "      <td>0</td>\n",
       "      <td>0</td>\n",
       "      <td>0</td>\n",
       "      <td>0</td>\n",
       "      <td>...</td>\n",
       "      <td>0</td>\n",
       "      <td>0</td>\n",
       "      <td>0</td>\n",
       "      <td>0</td>\n",
       "      <td>0</td>\n",
       "      <td>0</td>\n",
       "      <td>0</td>\n",
       "      <td>0</td>\n",
       "      <td>0</td>\n",
       "      <td>0</td>\n",
       "    </tr>\n",
       "  </tbody>\n",
       "</table>\n",
       "<p>1682 rows × 24 columns</p>\n",
       "</div>"
      ],
      "text/plain": [
       "      movie_id                                movie_title release_date  \\\n",
       "0            1                           Toy Story (1995)  01-Jan-1995   \n",
       "1            2                           GoldenEye (1995)  01-Jan-1995   \n",
       "2            3                          Four Rooms (1995)  01-Jan-1995   \n",
       "3            4                          Get Shorty (1995)  01-Jan-1995   \n",
       "4            5                             Copycat (1995)  01-Jan-1995   \n",
       "...        ...                                        ...          ...   \n",
       "1677      1678                          Mat' i syn (1997)  06-Feb-1998   \n",
       "1678      1679                           B. Monkey (1998)  06-Feb-1998   \n",
       "1679      1680                       Sliding Doors (1998)  01-Jan-1998   \n",
       "1680      1681                        You So Crazy (1994)  01-Jan-1994   \n",
       "1681      1682  Scream of Stone (Schrei aus Stein) (1991)  08-Mar-1996   \n",
       "\n",
       "      video_release_date                                           imdb_url  \\\n",
       "0                    NaN  http://us.imdb.com/M/title-exact?Toy%20Story%2...   \n",
       "1                    NaN  http://us.imdb.com/M/title-exact?GoldenEye%20(...   \n",
       "2                    NaN  http://us.imdb.com/M/title-exact?Four%20Rooms%...   \n",
       "3                    NaN  http://us.imdb.com/M/title-exact?Get%20Shorty%...   \n",
       "4                    NaN  http://us.imdb.com/M/title-exact?Copycat%20(1995)   \n",
       "...                  ...                                                ...   \n",
       "1677                 NaN  http://us.imdb.com/M/title-exact?Mat%27+i+syn+...   \n",
       "1678                 NaN  http://us.imdb.com/M/title-exact?B%2E+Monkey+(...   \n",
       "1679                 NaN      http://us.imdb.com/Title?Sliding+Doors+(1998)   \n",
       "1680                 NaN  http://us.imdb.com/M/title-exact?You%20So%20Cr...   \n",
       "1681                 NaN  http://us.imdb.com/M/title-exact?Schrei%20aus%...   \n",
       "\n",
       "      unknown  action  adventure  animation  children  ...  fantasy  \\\n",
       "0           0       0          0          1         1  ...        0   \n",
       "1           0       1          1          0         0  ...        0   \n",
       "2           0       0          0          0         0  ...        0   \n",
       "3           0       1          0          0         0  ...        0   \n",
       "4           0       0          0          0         0  ...        0   \n",
       "...       ...     ...        ...        ...       ...  ...      ...   \n",
       "1677        0       0          0          0         0  ...        0   \n",
       "1678        0       0          0          0         0  ...        0   \n",
       "1679        0       0          0          0         0  ...        0   \n",
       "1680        0       0          0          0         0  ...        0   \n",
       "1681        0       0          0          0         0  ...        0   \n",
       "\n",
       "      film-Noir  horror  musical  mystery  romance  sci-Fi  thriller  war  \\\n",
       "0             0       0        0        0        0       0         0    0   \n",
       "1             0       0        0        0        0       0         1    0   \n",
       "2             0       0        0        0        0       0         1    0   \n",
       "3             0       0        0        0        0       0         0    0   \n",
       "4             0       0        0        0        0       0         1    0   \n",
       "...         ...     ...      ...      ...      ...     ...       ...  ...   \n",
       "1677          0       0        0        0        0       0         0    0   \n",
       "1678          0       0        0        0        1       0         1    0   \n",
       "1679          0       0        0        0        1       0         0    0   \n",
       "1680          0       0        0        0        0       0         0    0   \n",
       "1681          0       0        0        0        0       0         0    0   \n",
       "\n",
       "      western  \n",
       "0           0  \n",
       "1           0  \n",
       "2           0  \n",
       "3           0  \n",
       "4           0  \n",
       "...       ...  \n",
       "1677        0  \n",
       "1678        0  \n",
       "1679        0  \n",
       "1680        0  \n",
       "1681        0  \n",
       "\n",
       "[1682 rows x 24 columns]"
      ]
     },
     "execution_count": 6,
     "metadata": {},
     "output_type": "execute_result"
    }
   ],
   "source": [
    "df_item"
   ]
  },
  {
   "cell_type": "code",
   "execution_count": 32,
   "metadata": {},
   "outputs": [
    {
     "name": "stdout",
     "output_type": "stream",
     "text": [
      "(1681, 3)\n"
     ]
    },
    {
     "data": {
      "text/html": [
       "<div>\n",
       "<style scoped>\n",
       "    .dataframe tbody tr th:only-of-type {\n",
       "        vertical-align: middle;\n",
       "    }\n",
       "\n",
       "    .dataframe tbody tr th {\n",
       "        vertical-align: top;\n",
       "    }\n",
       "\n",
       "    .dataframe thead th {\n",
       "        text-align: right;\n",
       "    }\n",
       "</style>\n",
       "<table border=\"1\" class=\"dataframe\">\n",
       "  <thead>\n",
       "    <tr style=\"text-align: right;\">\n",
       "      <th></th>\n",
       "      <th>itemid</th>\n",
       "      <th>name</th>\n",
       "      <th>item_date</th>\n",
       "    </tr>\n",
       "  </thead>\n",
       "  <tbody>\n",
       "    <tr>\n",
       "      <th>0</th>\n",
       "      <td>1</td>\n",
       "      <td>Toy Story (1995)</td>\n",
       "      <td>01-Jan-1995</td>\n",
       "    </tr>\n",
       "    <tr>\n",
       "      <th>1</th>\n",
       "      <td>2</td>\n",
       "      <td>GoldenEye (1995)</td>\n",
       "      <td>01-Jan-1995</td>\n",
       "    </tr>\n",
       "    <tr>\n",
       "      <th>2</th>\n",
       "      <td>3</td>\n",
       "      <td>Four Rooms (1995)</td>\n",
       "      <td>01-Jan-1995</td>\n",
       "    </tr>\n",
       "    <tr>\n",
       "      <th>3</th>\n",
       "      <td>4</td>\n",
       "      <td>Get Shorty (1995)</td>\n",
       "      <td>01-Jan-1995</td>\n",
       "    </tr>\n",
       "    <tr>\n",
       "      <th>4</th>\n",
       "      <td>5</td>\n",
       "      <td>Copycat (1995)</td>\n",
       "      <td>01-Jan-1995</td>\n",
       "    </tr>\n",
       "  </tbody>\n",
       "</table>\n",
       "</div>"
      ],
      "text/plain": [
       "   itemid               name    item_date\n",
       "0       1   Toy Story (1995)  01-Jan-1995\n",
       "1       2   GoldenEye (1995)  01-Jan-1995\n",
       "2       3  Four Rooms (1995)  01-Jan-1995\n",
       "3       4  Get Shorty (1995)  01-Jan-1995\n",
       "4       5     Copycat (1995)  01-Jan-1995"
      ]
     },
     "execution_count": 32,
     "metadata": {},
     "output_type": "execute_result"
    }
   ],
   "source": [
    "print(df_item.shape)\n",
    "df_item.head()"
   ]
  },
  {
   "cell_type": "code",
   "execution_count": 33,
   "metadata": {},
   "outputs": [
    {
     "data": {
      "text/plain": [
       "itemid        int32\n",
       "name         object\n",
       "item_date    object\n",
       "dtype: object"
      ]
     },
     "execution_count": 33,
     "metadata": {},
     "output_type": "execute_result"
    }
   ],
   "source": [
    "df_item.dtypes"
   ]
  },
  {
   "cell_type": "code",
   "execution_count": 14,
   "metadata": {
    "ExecuteTime": {
     "end_time": "2021-05-28T16:38:42.485421Z",
     "start_time": "2021-05-28T16:38:42.464032Z"
    }
   },
   "outputs": [],
   "source": [
    "from tqdm import tqdm_notebook"
   ]
  },
  {
   "cell_type": "code",
   "execution_count": 41,
   "metadata": {
    "ExecuteTime": {
     "end_time": "2021-05-28T17:07:06.690650Z",
     "start_time": "2021-05-28T17:07:06.671034Z"
    }
   },
   "outputs": [
    {
     "data": {
      "text/html": [
       "<div>\n",
       "<style scoped>\n",
       "    .dataframe tbody tr th:only-of-type {\n",
       "        vertical-align: middle;\n",
       "    }\n",
       "\n",
       "    .dataframe tbody tr th {\n",
       "        vertical-align: top;\n",
       "    }\n",
       "\n",
       "    .dataframe thead th {\n",
       "        text-align: right;\n",
       "    }\n",
       "</style>\n",
       "<table border=\"1\" class=\"dataframe\">\n",
       "  <thead>\n",
       "    <tr style=\"text-align: right;\">\n",
       "      <th>item_id</th>\n",
       "      <th>1</th>\n",
       "      <th>2</th>\n",
       "      <th>3</th>\n",
       "      <th>4</th>\n",
       "      <th>5</th>\n",
       "      <th>6</th>\n",
       "      <th>7</th>\n",
       "      <th>8</th>\n",
       "      <th>9</th>\n",
       "      <th>10</th>\n",
       "    </tr>\n",
       "    <tr>\n",
       "      <th>item_id</th>\n",
       "      <th></th>\n",
       "      <th></th>\n",
       "      <th></th>\n",
       "      <th></th>\n",
       "      <th></th>\n",
       "      <th></th>\n",
       "      <th></th>\n",
       "      <th></th>\n",
       "      <th></th>\n",
       "      <th></th>\n",
       "    </tr>\n",
       "  </thead>\n",
       "  <tbody>\n",
       "    <tr>\n",
       "      <th>1</th>\n",
       "      <td>3073009</td>\n",
       "      <td>736260</td>\n",
       "      <td>478569</td>\n",
       "      <td>1300726</td>\n",
       "      <td>497852</td>\n",
       "      <td>163029</td>\n",
       "      <td>2610217</td>\n",
       "      <td>1533875</td>\n",
       "      <td>2042245</td>\n",
       "      <td>597773</td>\n",
       "    </tr>\n",
       "    <tr>\n",
       "      <th>2</th>\n",
       "      <td>736260</td>\n",
       "      <td>176400</td>\n",
       "      <td>114660</td>\n",
       "      <td>311640</td>\n",
       "      <td>119280</td>\n",
       "      <td>39060</td>\n",
       "      <td>625380</td>\n",
       "      <td>367500</td>\n",
       "      <td>489300</td>\n",
       "      <td>143220</td>\n",
       "    </tr>\n",
       "    <tr>\n",
       "      <th>3</th>\n",
       "      <td>478569</td>\n",
       "      <td>114660</td>\n",
       "      <td>74529</td>\n",
       "      <td>202566</td>\n",
       "      <td>77532</td>\n",
       "      <td>25389</td>\n",
       "      <td>406497</td>\n",
       "      <td>238875</td>\n",
       "      <td>318045</td>\n",
       "      <td>93093</td>\n",
       "    </tr>\n",
       "    <tr>\n",
       "      <th>4</th>\n",
       "      <td>1300726</td>\n",
       "      <td>311640</td>\n",
       "      <td>202566</td>\n",
       "      <td>550564</td>\n",
       "      <td>210728</td>\n",
       "      <td>69006</td>\n",
       "      <td>1104838</td>\n",
       "      <td>649250</td>\n",
       "      <td>864430</td>\n",
       "      <td>253022</td>\n",
       "    </tr>\n",
       "    <tr>\n",
       "      <th>5</th>\n",
       "      <td>497852</td>\n",
       "      <td>119280</td>\n",
       "      <td>77532</td>\n",
       "      <td>210728</td>\n",
       "      <td>80656</td>\n",
       "      <td>26412</td>\n",
       "      <td>422876</td>\n",
       "      <td>248500</td>\n",
       "      <td>330860</td>\n",
       "      <td>96844</td>\n",
       "    </tr>\n",
       "    <tr>\n",
       "      <th>6</th>\n",
       "      <td>163029</td>\n",
       "      <td>39060</td>\n",
       "      <td>25389</td>\n",
       "      <td>69006</td>\n",
       "      <td>26412</td>\n",
       "      <td>8649</td>\n",
       "      <td>138477</td>\n",
       "      <td>81375</td>\n",
       "      <td>108345</td>\n",
       "      <td>31713</td>\n",
       "    </tr>\n",
       "    <tr>\n",
       "      <th>7</th>\n",
       "      <td>2610217</td>\n",
       "      <td>625380</td>\n",
       "      <td>406497</td>\n",
       "      <td>1104838</td>\n",
       "      <td>422876</td>\n",
       "      <td>138477</td>\n",
       "      <td>2217121</td>\n",
       "      <td>1302875</td>\n",
       "      <td>1734685</td>\n",
       "      <td>507749</td>\n",
       "    </tr>\n",
       "    <tr>\n",
       "      <th>8</th>\n",
       "      <td>1533875</td>\n",
       "      <td>367500</td>\n",
       "      <td>238875</td>\n",
       "      <td>649250</td>\n",
       "      <td>248500</td>\n",
       "      <td>81375</td>\n",
       "      <td>1302875</td>\n",
       "      <td>765625</td>\n",
       "      <td>1019375</td>\n",
       "      <td>298375</td>\n",
       "    </tr>\n",
       "    <tr>\n",
       "      <th>9</th>\n",
       "      <td>2042245</td>\n",
       "      <td>489300</td>\n",
       "      <td>318045</td>\n",
       "      <td>864430</td>\n",
       "      <td>330860</td>\n",
       "      <td>108345</td>\n",
       "      <td>1734685</td>\n",
       "      <td>1019375</td>\n",
       "      <td>1357225</td>\n",
       "      <td>397265</td>\n",
       "    </tr>\n",
       "    <tr>\n",
       "      <th>10</th>\n",
       "      <td>597773</td>\n",
       "      <td>143220</td>\n",
       "      <td>93093</td>\n",
       "      <td>253022</td>\n",
       "      <td>96844</td>\n",
       "      <td>31713</td>\n",
       "      <td>507749</td>\n",
       "      <td>298375</td>\n",
       "      <td>397265</td>\n",
       "      <td>116281</td>\n",
       "    </tr>\n",
       "  </tbody>\n",
       "</table>\n",
       "</div>"
      ],
      "text/plain": [
       "item_id       1       2       3        4       5       6        7        8   \\\n",
       "item_id                                                                       \n",
       "1        3073009  736260  478569  1300726  497852  163029  2610217  1533875   \n",
       "2         736260  176400  114660   311640  119280   39060   625380   367500   \n",
       "3         478569  114660   74529   202566   77532   25389   406497   238875   \n",
       "4        1300726  311640  202566   550564  210728   69006  1104838   649250   \n",
       "5         497852  119280   77532   210728   80656   26412   422876   248500   \n",
       "6         163029   39060   25389    69006   26412    8649   138477    81375   \n",
       "7        2610217  625380  406497  1104838  422876  138477  2217121  1302875   \n",
       "8        1533875  367500  238875   649250  248500   81375  1302875   765625   \n",
       "9        2042245  489300  318045   864430  330860  108345  1734685  1019375   \n",
       "10        597773  143220   93093   253022   96844   31713   507749   298375   \n",
       "\n",
       "item_id       9       10  \n",
       "item_id                   \n",
       "1        2042245  597773  \n",
       "2         489300  143220  \n",
       "3         318045   93093  \n",
       "4         864430  253022  \n",
       "5         330860   96844  \n",
       "6         108345   31713  \n",
       "7        1734685  507749  \n",
       "8        1019375  298375  \n",
       "9        1357225  397265  \n",
       "10        397265  116281  "
      ]
     },
     "execution_count": 41,
     "metadata": {},
     "output_type": "execute_result"
    }
   ],
   "source": [
    "pd.DataFrame(group.head(10)).dot(pd.DataFrame(group.head(10)).T)"
   ]
  },
  {
   "cell_type": "code",
   "execution_count": 10,
   "metadata": {
    "ExecuteTime": {
     "end_time": "2021-05-28T16:33:35.517740Z",
     "start_time": "2021-05-28T16:33:35.509147Z"
    }
   },
   "outputs": [
    {
     "data": {
      "text/plain": [
       "2829124"
      ]
     },
     "execution_count": 10,
     "metadata": {},
     "output_type": "execute_result"
    }
   ],
   "source": [
    "len(lst)"
   ]
  },
  {
   "cell_type": "markdown",
   "metadata": {},
   "source": [
    "## Основные характеристики данных MovieLens"
   ]
  },
  {
   "cell_type": "markdown",
   "metadata": {},
   "source": [
    "### Найдите количество всех пользователей и количество всех фильмов в данных (общее число пользователей и фильмов в датасете)."
   ]
  },
  {
   "cell_type": "code",
   "execution_count": 164,
   "metadata": {
    "ExecuteTime": {
     "end_time": "2021-05-25T20:43:47.399133Z",
     "start_time": "2021-05-25T20:43:47.385592Z"
    },
    "scrolled": true
   },
   "outputs": [
    {
     "name": "stdout",
     "output_type": "stream",
     "text": [
      "943 1682\n"
     ]
    }
   ],
   "source": [
    "user_count = len(df_data.user_id.unique())\n",
    "movie_count = len(df_item.movie_id.unique())\n",
    "\n",
    "print(user_count, movie_count)"
   ]
  },
  {
   "cell_type": "markdown",
   "metadata": {},
   "source": [
    "### Сколько пользователь в среднем ставит рейтингов? Подсчитать `количество рейтингов / количество пользователей`."
   ]
  },
  {
   "cell_type": "code",
   "execution_count": 38,
   "metadata": {
    "ExecuteTime": {
     "end_time": "2021-05-25T20:43:39.148352Z",
     "start_time": "2021-05-25T20:43:39.143348Z"
    }
   },
   "outputs": [
    {
     "data": {
      "text/plain": [
       "106.04453870625663"
      ]
     },
     "execution_count": 38,
     "metadata": {},
     "output_type": "execute_result"
    }
   ],
   "source": [
    "average_user_ratings = len(df_data) / user_count\n",
    "average_user_ratings"
   ]
  },
  {
   "cell_type": "markdown",
   "metadata": {},
   "source": [
    "### Сколько фильм в среднем имеет рейтингов? Подсчитать`количество рейтингов / количество фильмов`."
   ]
  },
  {
   "cell_type": "code",
   "execution_count": 39,
   "metadata": {
    "ExecuteTime": {
     "end_time": "2021-05-25T20:43:41.258145Z",
     "start_time": "2021-05-25T20:43:41.253627Z"
    },
    "scrolled": true
   },
   "outputs": [
    {
     "data": {
      "text/plain": [
       "59.4883997620464"
      ]
     },
     "execution_count": 39,
     "metadata": {},
     "output_type": "execute_result"
    }
   ],
   "source": [
    "average_film_ratings = len(df_data) / movie_count\n",
    "average_film_ratings"
   ]
  },
  {
   "cell_type": "markdown",
   "metadata": {},
   "source": [
    "### Найдите процент заполненных ячеек в данных: `количество рейтингов / (количество пользователей * количество фильмов)`."
   ]
  },
  {
   "cell_type": "code",
   "execution_count": 40,
   "metadata": {
    "ExecuteTime": {
     "end_time": "2021-05-25T20:43:44.079189Z",
     "start_time": "2021-05-25T20:43:44.074288Z"
    },
    "scrolled": true
   },
   "outputs": [
    {
     "data": {
      "text/plain": [
       "0.06308419911139597"
      ]
     },
     "execution_count": 40,
     "metadata": {},
     "output_type": "execute_result"
    }
   ],
   "source": [
    "completeness = len(df_data) / (user_count*movie_count)\n",
    "completeness"
   ]
  },
  {
   "cell_type": "markdown",
   "metadata": {},
   "source": [
    "## User-user CF"
   ]
  },
  {
   "cell_type": "markdown",
   "metadata": {},
   "source": [
    "### Для каждого пользователя найдите его средний рейтинг (сумма рейтингов пользователя/количество рейтингов пользователя)."
   ]
  },
  {
   "cell_type": "code",
   "execution_count": 41,
   "metadata": {
    "ExecuteTime": {
     "end_time": "2021-05-25T18:08:55.878857Z",
     "start_time": "2021-05-25T18:08:55.870015Z"
    }
   },
   "outputs": [],
   "source": [
    "r = df_data.groupby('user_id')['rating'].mean()"
   ]
  },
  {
   "cell_type": "code",
   "execution_count": 43,
   "metadata": {},
   "outputs": [
    {
     "data": {
      "text/plain": [
       "user_id\n",
       "1      3.610294\n",
       "2      3.709677\n",
       "3      2.796296\n",
       "4      4.333333\n",
       "5      2.874286\n",
       "         ...   \n",
       "939    4.265306\n",
       "940    3.457944\n",
       "941    4.045455\n",
       "942    4.265823\n",
       "943    3.410714\n",
       "Name: rating, Length: 943, dtype: float64"
      ]
     },
     "execution_count": 43,
     "metadata": {},
     "output_type": "execute_result"
    }
   ],
   "source": [
    "r"
   ]
  },
  {
   "cell_type": "code",
   "execution_count": 42,
   "metadata": {
    "ExecuteTime": {
     "end_time": "2021-05-25T18:21:42.766308Z",
     "start_time": "2021-05-25T18:21:42.759124Z"
    }
   },
   "outputs": [],
   "source": [
    "target_user_avg = r[id_to_predict]"
   ]
  },
  {
   "cell_type": "markdown",
   "metadata": {},
   "source": [
    "### Посчитайте меру близости Пирсона выданного вам пользователя со всеми остальными пользователями."
   ]
  },
  {
   "cell_type": "code",
   "execution_count": 47,
   "metadata": {
    "ExecuteTime": {
     "end_time": "2021-05-25T18:29:31.018416Z",
     "start_time": "2021-05-25T18:29:31.010223Z"
    }
   },
   "outputs": [],
   "source": [
    "# Какие фильмы оценил целевой пользователь?\n",
    "target_user_movies = set(\n",
    "    df_data[df_data.user_id == id_to_predict].item_id\n",
    ")"
   ]
  },
  {
   "cell_type": "code",
   "execution_count": 48,
   "metadata": {
    "ExecuteTime": {
     "end_time": "2021-05-25T18:38:22.745749Z",
     "start_time": "2021-05-25T18:38:22.741255Z"
    }
   },
   "outputs": [
    {
     "data": {
      "text/plain": [
       "306"
      ]
     },
     "execution_count": 48,
     "metadata": {},
     "output_type": "execute_result"
    }
   ],
   "source": [
    "# сколько всего фильмов он оценил?\n",
    "len(target_user_movies)"
   ]
  },
  {
   "cell_type": "code",
   "execution_count": 49,
   "metadata": {
    "ExecuteTime": {
     "end_time": "2021-05-25T20:18:50.911277Z",
     "start_time": "2021-05-25T20:16:01.487668Z"
    },
    "scrolled": false
   },
   "outputs": [],
   "source": [
    "corr_lst = []\n",
    "\n",
    "# Переберем всех пользователей в цикле\n",
    "for user in df_data.user_id.unique():\n",
    "    # Выделим фильмы оцененные пользователем\n",
    "    user_movies = set(\n",
    "        df_data[df_data.user_id == user].item_id\n",
    "    )\n",
    "    \n",
    "    # Найдем пересечения в фильмах с целевым пользоватлем\n",
    "    intersect = target_user_movies & user_movies\n",
    "    if len(intersect) == 0: continue\n",
    "    \n",
    "   \n",
    "    numerator = 0\n",
    "    denominator1 = 0\n",
    "    denominator2 = 0\n",
    "    \n",
    "    for movie in intersect:\n",
    "        # Посчитаем числитель\n",
    "        ra = df_data[\n",
    "                (df_data.item_id == movie) & \n",
    "                (df_data.user_id == user)\n",
    "            ]['rating'].values[0]\n",
    "        \n",
    "        ra_avg = r[user]\n",
    "        \n",
    "        ru = df_data[\n",
    "                (df_data.item_id == movie) & \n",
    "                (df_data.user_id == id_to_predict)\n",
    "            ]['rating'].values[0]\n",
    "        \n",
    "        ru_avg = target_user_avg\n",
    "        \n",
    "        numerator += (ra - ra_avg)*(ru - ru_avg)\n",
    "        \n",
    "        # Посчитаем знаменатель\n",
    "        denominator1 += (ra - ra_avg)**2\n",
    "        denominator2 += (ru - ru_avg)**2\n",
    "        \n",
    "    # Поправочный коэффициент на нехватку данных\n",
    "    coef = min((len(intersect)/50),1)\n",
    "    \n",
    "    # Рассчитаем корреляцию\n",
    "    s = (coef * numerator) / (sqrt(denominator1)*sqrt(denominator2))\n",
    "        \n",
    "        \n",
    "    corr_lst.append([user, s])"
   ]
  },
  {
   "cell_type": "code",
   "execution_count": 50,
   "metadata": {
    "ExecuteTime": {
     "end_time": "2021-05-25T20:18:50.922868Z",
     "start_time": "2021-05-25T20:18:50.914836Z"
    }
   },
   "outputs": [],
   "source": [
    "df_s = pd.DataFrame(corr_lst, columns=['user_id','correlation'])"
   ]
  },
  {
   "cell_type": "code",
   "execution_count": 51,
   "metadata": {},
   "outputs": [
    {
     "data": {
      "text/html": [
       "<div>\n",
       "<style scoped>\n",
       "    .dataframe tbody tr th:only-of-type {\n",
       "        vertical-align: middle;\n",
       "    }\n",
       "\n",
       "    .dataframe tbody tr th {\n",
       "        vertical-align: top;\n",
       "    }\n",
       "\n",
       "    .dataframe thead th {\n",
       "        text-align: right;\n",
       "    }\n",
       "</style>\n",
       "<table border=\"1\" class=\"dataframe\">\n",
       "  <thead>\n",
       "    <tr style=\"text-align: right;\">\n",
       "      <th></th>\n",
       "      <th>user_id</th>\n",
       "      <th>correlation</th>\n",
       "    </tr>\n",
       "  </thead>\n",
       "  <tbody>\n",
       "    <tr>\n",
       "      <th>0</th>\n",
       "      <td>196</td>\n",
       "      <td>-0.022784</td>\n",
       "    </tr>\n",
       "    <tr>\n",
       "      <th>1</th>\n",
       "      <td>186</td>\n",
       "      <td>-0.031638</td>\n",
       "    </tr>\n",
       "    <tr>\n",
       "      <th>2</th>\n",
       "      <td>22</td>\n",
       "      <td>0.072344</td>\n",
       "    </tr>\n",
       "    <tr>\n",
       "      <th>3</th>\n",
       "      <td>244</td>\n",
       "      <td>0.020513</td>\n",
       "    </tr>\n",
       "    <tr>\n",
       "      <th>4</th>\n",
       "      <td>166</td>\n",
       "      <td>-0.006023</td>\n",
       "    </tr>\n",
       "    <tr>\n",
       "      <th>...</th>\n",
       "      <td>...</td>\n",
       "      <td>...</td>\n",
       "    </tr>\n",
       "    <tr>\n",
       "      <th>938</th>\n",
       "      <td>939</td>\n",
       "      <td>0.061249</td>\n",
       "    </tr>\n",
       "    <tr>\n",
       "      <th>939</th>\n",
       "      <td>936</td>\n",
       "      <td>0.295666</td>\n",
       "    </tr>\n",
       "    <tr>\n",
       "      <th>940</th>\n",
       "      <td>930</td>\n",
       "      <td>0.164994</td>\n",
       "    </tr>\n",
       "    <tr>\n",
       "      <th>941</th>\n",
       "      <td>920</td>\n",
       "      <td>-0.021979</td>\n",
       "    </tr>\n",
       "    <tr>\n",
       "      <th>942</th>\n",
       "      <td>941</td>\n",
       "      <td>0.064170</td>\n",
       "    </tr>\n",
       "  </tbody>\n",
       "</table>\n",
       "<p>943 rows × 2 columns</p>\n",
       "</div>"
      ],
      "text/plain": [
       "     user_id  correlation\n",
       "0        196    -0.022784\n",
       "1        186    -0.031638\n",
       "2         22     0.072344\n",
       "3        244     0.020513\n",
       "4        166    -0.006023\n",
       "..       ...          ...\n",
       "938      939     0.061249\n",
       "939      936     0.295666\n",
       "940      930     0.164994\n",
       "941      920    -0.021979\n",
       "942      941     0.064170\n",
       "\n",
       "[943 rows x 2 columns]"
      ]
     },
     "execution_count": 51,
     "metadata": {},
     "output_type": "execute_result"
    }
   ],
   "source": [
    "df_s"
   ]
  },
  {
   "cell_type": "markdown",
   "metadata": {},
   "source": [
    "### Найдите 30 ближайших пользователей-соседей данного пользователя"
   ]
  },
  {
   "cell_type": "code",
   "execution_count": 52,
   "metadata": {
    "ExecuteTime": {
     "end_time": "2021-05-25T20:19:04.463607Z",
     "start_time": "2021-05-25T20:19:04.458294Z"
    }
   },
   "outputs": [],
   "source": [
    "pearson_neighbours = df_s.sort_values(\n",
    "    by='correlation', \n",
    "    ascending=False).iloc[1:31,].user_id.tolist()"
   ]
  },
  {
   "cell_type": "markdown",
   "metadata": {},
   "source": [
    "### Для всех фильмов найдем прогноз оценки"
   ]
  },
  {
   "cell_type": "code",
   "execution_count": 53,
   "metadata": {
    "ExecuteTime": {
     "end_time": "2021-05-25T21:33:09.214387Z",
     "start_time": "2021-05-25T21:33:09.173398Z"
    }
   },
   "outputs": [
    {
     "data": {
      "text/html": [
       "<div>\n",
       "<style scoped>\n",
       "    .dataframe tbody tr th:only-of-type {\n",
       "        vertical-align: middle;\n",
       "    }\n",
       "\n",
       "    .dataframe tbody tr th {\n",
       "        vertical-align: top;\n",
       "    }\n",
       "\n",
       "    .dataframe thead th {\n",
       "        text-align: right;\n",
       "    }\n",
       "</style>\n",
       "<table border=\"1\" class=\"dataframe\">\n",
       "  <thead>\n",
       "    <tr style=\"text-align: right;\">\n",
       "      <th></th>\n",
       "      <th>user_id</th>\n",
       "      <th>correlation</th>\n",
       "      <th>item_id</th>\n",
       "      <th>rating</th>\n",
       "      <th>timestamp</th>\n",
       "    </tr>\n",
       "  </thead>\n",
       "  <tbody>\n",
       "    <tr>\n",
       "      <th>0</th>\n",
       "      <td>115</td>\n",
       "      <td>0.437505</td>\n",
       "      <td>265</td>\n",
       "      <td>2</td>\n",
       "      <td>881171488</td>\n",
       "    </tr>\n",
       "    <tr>\n",
       "      <th>1</th>\n",
       "      <td>115</td>\n",
       "      <td>0.437505</td>\n",
       "      <td>20</td>\n",
       "      <td>3</td>\n",
       "      <td>881171009</td>\n",
       "    </tr>\n",
       "    <tr>\n",
       "      <th>2</th>\n",
       "      <td>115</td>\n",
       "      <td>0.437505</td>\n",
       "      <td>1067</td>\n",
       "      <td>4</td>\n",
       "      <td>881171009</td>\n",
       "    </tr>\n",
       "    <tr>\n",
       "      <th>3</th>\n",
       "      <td>115</td>\n",
       "      <td>0.437505</td>\n",
       "      <td>8</td>\n",
       "      <td>5</td>\n",
       "      <td>881171982</td>\n",
       "    </tr>\n",
       "    <tr>\n",
       "      <th>4</th>\n",
       "      <td>115</td>\n",
       "      <td>0.437505</td>\n",
       "      <td>127</td>\n",
       "      <td>5</td>\n",
       "      <td>881171760</td>\n",
       "    </tr>\n",
       "    <tr>\n",
       "      <th>...</th>\n",
       "      <td>...</td>\n",
       "      <td>...</td>\n",
       "      <td>...</td>\n",
       "      <td>...</td>\n",
       "      <td>...</td>\n",
       "    </tr>\n",
       "    <tr>\n",
       "      <th>5128</th>\n",
       "      <td>894</td>\n",
       "      <td>0.458981</td>\n",
       "      <td>16</td>\n",
       "      <td>3</td>\n",
       "      <td>880993614</td>\n",
       "    </tr>\n",
       "    <tr>\n",
       "      <th>5129</th>\n",
       "      <td>894</td>\n",
       "      <td>0.458981</td>\n",
       "      <td>330</td>\n",
       "      <td>3</td>\n",
       "      <td>880415951</td>\n",
       "    </tr>\n",
       "    <tr>\n",
       "      <th>5130</th>\n",
       "      <td>894</td>\n",
       "      <td>0.458981</td>\n",
       "      <td>166</td>\n",
       "      <td>4</td>\n",
       "      <td>882404306</td>\n",
       "    </tr>\n",
       "    <tr>\n",
       "      <th>5131</th>\n",
       "      <td>894</td>\n",
       "      <td>0.458981</td>\n",
       "      <td>750</td>\n",
       "      <td>4</td>\n",
       "      <td>883518875</td>\n",
       "    </tr>\n",
       "    <tr>\n",
       "      <th>5132</th>\n",
       "      <td>894</td>\n",
       "      <td>0.458981</td>\n",
       "      <td>905</td>\n",
       "      <td>3</td>\n",
       "      <td>887044109</td>\n",
       "    </tr>\n",
       "  </tbody>\n",
       "</table>\n",
       "<p>5133 rows × 5 columns</p>\n",
       "</div>"
      ],
      "text/plain": [
       "      user_id  correlation  item_id  rating  timestamp\n",
       "0         115     0.437505      265       2  881171488\n",
       "1         115     0.437505       20       3  881171009\n",
       "2         115     0.437505     1067       4  881171009\n",
       "3         115     0.437505        8       5  881171982\n",
       "4         115     0.437505      127       5  881171760\n",
       "...       ...          ...      ...     ...        ...\n",
       "5128      894     0.458981       16       3  880993614\n",
       "5129      894     0.458981      330       3  880415951\n",
       "5130      894     0.458981      166       4  882404306\n",
       "5131      894     0.458981      750       4  883518875\n",
       "5132      894     0.458981      905       3  887044109\n",
       "\n",
       "[5133 rows x 5 columns]"
      ]
     },
     "execution_count": 53,
     "metadata": {},
     "output_type": "execute_result"
    }
   ],
   "source": [
    "df_neighbours = df_s[df_s.user_id.isin(pearson_neighbours)]\\\n",
    "                .merge(df_data, how=\"left\", on='user_id')\n",
    "df_neighbours"
   ]
  },
  {
   "cell_type": "code",
   "execution_count": 222,
   "metadata": {
    "ExecuteTime": {
     "end_time": "2021-05-25T21:33:40.446766Z",
     "start_time": "2021-05-25T21:33:27.859085Z"
    }
   },
   "outputs": [],
   "source": [
    "recom_lst = []\n",
    "\n",
    "# Переберем все фильмы\n",
    "for movie in df_item.movie_id.unique():\n",
    "    \n",
    "    # Проверим смотрели ли соседи данный фильм\n",
    "    df_movie_exist = df_neighbours[df_neighbours.item_id == movie]\n",
    "    if len(df_movie_exist) == 0: continue\n",
    "        \n",
    "        \n",
    "    numerator = 0\n",
    "    denominator = 0\n",
    "    \n",
    "    for user in df_movie_exist.user_id:\n",
    "        # Считаем числитель\n",
    "        # Мера близости пользователя\n",
    "        s = df_movie_exist[df_movie_exist.user_id == user]['correlation'].values[0]\n",
    "        \n",
    "        ru = df_movie_exist[\n",
    "                (df_movie_exist.item_id == movie) & \n",
    "                (df_movie_exist.user_id == user)]['rating'].values[0]\n",
    "        \n",
    "        ru_avg = r[user]\n",
    "        \n",
    "        numerator += s*(ru - ru_avg)\n",
    "        \n",
    "        # Считаем знаменатель\n",
    "        denominator += abs(s)\n",
    "    \n",
    "    # Средний рейтинг целевого пользователя          \n",
    "    ra = r[id_to_predict]\n",
    "    \n",
    "    # Итоговая рекомендация\n",
    "    recom = ra + numerator / denominator\n",
    "    \n",
    "    recom_lst.append([movie, recom])"
   ]
  },
  {
   "cell_type": "code",
   "execution_count": 223,
   "metadata": {
    "ExecuteTime": {
     "end_time": "2021-05-25T21:33:40.471790Z",
     "start_time": "2021-05-25T21:33:40.449274Z"
    },
    "scrolled": true
   },
   "outputs": [
    {
     "data": {
      "text/html": [
       "<div>\n",
       "<style scoped>\n",
       "    .dataframe tbody tr th:only-of-type {\n",
       "        vertical-align: middle;\n",
       "    }\n",
       "\n",
       "    .dataframe tbody tr th {\n",
       "        vertical-align: top;\n",
       "    }\n",
       "\n",
       "    .dataframe thead th {\n",
       "        text-align: right;\n",
       "    }\n",
       "</style>\n",
       "<table border=\"1\" class=\"dataframe\">\n",
       "  <thead>\n",
       "    <tr style=\"text-align: right;\">\n",
       "      <th></th>\n",
       "      <th>item_id</th>\n",
       "      <th>rating</th>\n",
       "    </tr>\n",
       "  </thead>\n",
       "  <tbody>\n",
       "    <tr>\n",
       "      <th>0</th>\n",
       "      <td>1</td>\n",
       "      <td>3.562200</td>\n",
       "    </tr>\n",
       "    <tr>\n",
       "      <th>1</th>\n",
       "      <td>2</td>\n",
       "      <td>2.776399</td>\n",
       "    </tr>\n",
       "    <tr>\n",
       "      <th>2</th>\n",
       "      <td>3</td>\n",
       "      <td>2.746245</td>\n",
       "    </tr>\n",
       "    <tr>\n",
       "      <th>3</th>\n",
       "      <td>4</td>\n",
       "      <td>3.605320</td>\n",
       "    </tr>\n",
       "    <tr>\n",
       "      <th>4</th>\n",
       "      <td>5</td>\n",
       "      <td>3.049536</td>\n",
       "    </tr>\n",
       "    <tr>\n",
       "      <th>...</th>\n",
       "      <td>...</td>\n",
       "      <td>...</td>\n",
       "    </tr>\n",
       "    <tr>\n",
       "      <th>1017</th>\n",
       "      <td>1598</td>\n",
       "      <td>5.271242</td>\n",
       "    </tr>\n",
       "    <tr>\n",
       "      <th>1018</th>\n",
       "      <td>1609</td>\n",
       "      <td>3.271242</td>\n",
       "    </tr>\n",
       "    <tr>\n",
       "      <th>1019</th>\n",
       "      <td>1610</td>\n",
       "      <td>2.271242</td>\n",
       "    </tr>\n",
       "    <tr>\n",
       "      <th>1020</th>\n",
       "      <td>1611</td>\n",
       "      <td>3.271242</td>\n",
       "    </tr>\n",
       "    <tr>\n",
       "      <th>1021</th>\n",
       "      <td>1658</td>\n",
       "      <td>3.856729</td>\n",
       "    </tr>\n",
       "  </tbody>\n",
       "</table>\n",
       "<p>1022 rows × 2 columns</p>\n",
       "</div>"
      ],
      "text/plain": [
       "      item_id    rating\n",
       "0           1  3.562200\n",
       "1           2  2.776399\n",
       "2           3  2.746245\n",
       "3           4  3.605320\n",
       "4           5  3.049536\n",
       "...       ...       ...\n",
       "1017     1598  5.271242\n",
       "1018     1609  3.271242\n",
       "1019     1610  2.271242\n",
       "1020     1611  3.271242\n",
       "1021     1658  3.856729\n",
       "\n",
       "[1022 rows x 2 columns]"
      ]
     },
     "execution_count": 223,
     "metadata": {},
     "output_type": "execute_result"
    }
   ],
   "source": [
    "df_recom = pd.DataFrame(recom_lst, columns=['item_id','rating'])\n",
    "df_recom"
   ]
  },
  {
   "cell_type": "markdown",
   "metadata": {},
   "source": [
    "### Рекомендуйте пользователю 10 фильмов (`pearson_top10`), которые он еще не оценивал, с самыми высокими прогнозами из предыдущего пункта."
   ]
  },
  {
   "cell_type": "code",
   "execution_count": 224,
   "metadata": {
    "ExecuteTime": {
     "end_time": "2021-05-25T21:33:40.494245Z",
     "start_time": "2021-05-25T21:33:40.474424Z"
    }
   },
   "outputs": [],
   "source": [
    "# Вычислим что пользователь ещё не смотрел\n",
    "inverse_boolean_series = ~df_recom.item_id.isin(list(target_user_movies))\n",
    "df_not_watched = df_recom[inverse_boolean_series]\n",
    "\n",
    "\n",
    "pearson_top10 = df_not_watched.sort_values(\n",
    "                    by=['rating','item_id'], \n",
    "                     ascending=(False, True)).head(10)['item_id'].tolist()"
   ]
  },
  {
   "cell_type": "markdown",
   "metadata": {},
   "source": [
    "## Результат"
   ]
  },
  {
   "cell_type": "code",
   "execution_count": 228,
   "metadata": {
    "ExecuteTime": {
     "end_time": "2021-05-25T21:35:09.263185Z",
     "start_time": "2021-05-25T21:35:09.258405Z"
    }
   },
   "outputs": [
    {
     "data": {
      "text/plain": [
       "[1137, 1598, 1128, 1368, 487, 536, 863, 1211, 251, 1266]"
      ]
     },
     "execution_count": 228,
     "metadata": {},
     "output_type": "execute_result"
    }
   ],
   "source": [
    "pearson_top10"
   ]
  },
  {
   "cell_type": "code",
   "execution_count": 229,
   "metadata": {
    "ExecuteTime": {
     "end_time": "2021-05-25T21:35:11.358813Z",
     "start_time": "2021-05-25T21:35:11.354659Z"
    }
   },
   "outputs": [],
   "source": [
    "result_dic = {\n",
    "    \"average_film_ratings\": round(average_film_ratings, 4),\n",
    "    \"average_user_ratings\": round(average_user_ratings, 4),\n",
    "    \"completeness\": round(completeness, 4),\n",
    "    \"pearson_neighbours\": pearson_neighbours,\n",
    "    \"pearson_top10\": pearson_top10\n",
    "}"
   ]
  },
  {
   "cell_type": "code",
   "execution_count": 230,
   "metadata": {
    "ExecuteTime": {
     "end_time": "2021-05-25T21:35:12.315437Z",
     "start_time": "2021-05-25T21:35:12.311531Z"
    }
   },
   "outputs": [],
   "source": [
    "with open('../lab08.json', 'w') as outfile:\n",
    "    json.dump(result_dic, outfile)"
   ]
  }
 ],
 "metadata": {
  "kernelspec": {
   "display_name": "Python 3",
   "language": "python",
   "name": "python3"
  },
  "language_info": {
   "codemirror_mode": {
    "name": "ipython",
    "version": 3
   },
   "file_extension": ".py",
   "mimetype": "text/x-python",
   "name": "python",
   "nbconvert_exporter": "python",
   "pygments_lexer": "ipython3",
   "version": "3.6.5"
  },
  "toc": {
   "base_numbering": 1,
   "nav_menu": {},
   "number_sections": true,
   "sideBar": true,
   "skip_h1_title": false,
   "title_cell": "Table of Contents",
   "title_sidebar": "Contents",
   "toc_cell": false,
   "toc_position": {},
   "toc_section_display": true,
   "toc_window_display": false
  }
 },
 "nbformat": 4,
 "nbformat_minor": 2
}
