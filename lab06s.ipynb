{
 "cells": [
  {
   "cell_type": "markdown",
   "metadata": {
    "ExecuteTime": {
     "end_time": "2021-05-02T18:33:57.730567Z",
     "start_time": "2021-05-02T18:33:57.726857Z"
    }
   },
   "source": [
    "# Лаба 6. Суперачивка. Построение неперсонализированной рекомендательной системы для фильмов"
   ]
  },
  {
   "cell_type": "markdown",
   "metadata": {},
   "source": [
    "### По имеющимся данным о рейтингах фильмов (MovieLens: 100 000 рейтингов) посчитать агрегированную статистику по ним."
   ]
  },
  {
   "cell_type": "code",
   "execution_count": null,
   "metadata": {},
   "outputs": [],
   "source": [
    "import pandas as pd\n",
    "import numpy as np\n",
    "from math import sqrt\n",
    "import json"
   ]
  },
  {
   "cell_type": "markdown",
   "metadata": {},
   "source": [
    "## Константы из ЛК"
   ]
  },
  {
   "cell_type": "code",
   "execution_count": 339,
   "metadata": {
    "ExecuteTime": {
     "end_time": "2021-05-02T18:33:57.738416Z",
     "start_time": "2021-05-02T18:33:57.732729Z"
    }
   },
   "outputs": [],
   "source": [
    "k = 10\n",
    "z = 3.291"
   ]
  },
  {
   "cell_type": "markdown",
   "metadata": {},
   "source": [
    "## Загрузим файл"
   ]
  },
  {
   "cell_type": "code",
   "execution_count": 340,
   "metadata": {
    "ExecuteTime": {
     "end_time": "2021-05-02T18:33:57.808327Z",
     "start_time": "2021-05-02T18:33:57.740403Z"
    }
   },
   "outputs": [],
   "source": [
    "df = pd.read_csv(\n",
    "    'u.data', \n",
    "    delimiter='\\t', \n",
    "    header=None, \n",
    "    names=['user_id', 'item_id','rating','timestamp']\n",
    ")"
   ]
  },
  {
   "cell_type": "code",
   "execution_count": 421,
   "metadata": {
    "ExecuteTime": {
     "end_time": "2021-05-02T18:54:34.328496Z",
     "start_time": "2021-05-02T18:54:34.315608Z"
    },
    "scrolled": true
   },
   "outputs": [
    {
     "data": {
      "text/html": [
       "<div>\n",
       "<style scoped>\n",
       "    .dataframe tbody tr th:only-of-type {\n",
       "        vertical-align: middle;\n",
       "    }\n",
       "\n",
       "    .dataframe tbody tr th {\n",
       "        vertical-align: top;\n",
       "    }\n",
       "\n",
       "    .dataframe thead th {\n",
       "        text-align: right;\n",
       "    }\n",
       "</style>\n",
       "<table border=\"1\" class=\"dataframe\">\n",
       "  <thead>\n",
       "    <tr style=\"text-align: right;\">\n",
       "      <th></th>\n",
       "      <th>user_id</th>\n",
       "      <th>item_id</th>\n",
       "      <th>rating</th>\n",
       "      <th>timestamp</th>\n",
       "      <th>positive</th>\n",
       "    </tr>\n",
       "  </thead>\n",
       "  <tbody>\n",
       "    <tr>\n",
       "      <th>0</th>\n",
       "      <td>196</td>\n",
       "      <td>242</td>\n",
       "      <td>3</td>\n",
       "      <td>881250949</td>\n",
       "      <td>0</td>\n",
       "    </tr>\n",
       "    <tr>\n",
       "      <th>1</th>\n",
       "      <td>186</td>\n",
       "      <td>302</td>\n",
       "      <td>3</td>\n",
       "      <td>891717742</td>\n",
       "      <td>0</td>\n",
       "    </tr>\n",
       "    <tr>\n",
       "      <th>2</th>\n",
       "      <td>22</td>\n",
       "      <td>377</td>\n",
       "      <td>1</td>\n",
       "      <td>878887116</td>\n",
       "      <td>0</td>\n",
       "    </tr>\n",
       "    <tr>\n",
       "      <th>3</th>\n",
       "      <td>244</td>\n",
       "      <td>51</td>\n",
       "      <td>2</td>\n",
       "      <td>880606923</td>\n",
       "      <td>0</td>\n",
       "    </tr>\n",
       "    <tr>\n",
       "      <th>4</th>\n",
       "      <td>166</td>\n",
       "      <td>346</td>\n",
       "      <td>1</td>\n",
       "      <td>886397596</td>\n",
       "      <td>0</td>\n",
       "    </tr>\n",
       "    <tr>\n",
       "      <th>...</th>\n",
       "      <td>...</td>\n",
       "      <td>...</td>\n",
       "      <td>...</td>\n",
       "      <td>...</td>\n",
       "      <td>...</td>\n",
       "    </tr>\n",
       "    <tr>\n",
       "      <th>99995</th>\n",
       "      <td>880</td>\n",
       "      <td>476</td>\n",
       "      <td>3</td>\n",
       "      <td>880175444</td>\n",
       "      <td>0</td>\n",
       "    </tr>\n",
       "    <tr>\n",
       "      <th>99996</th>\n",
       "      <td>716</td>\n",
       "      <td>204</td>\n",
       "      <td>5</td>\n",
       "      <td>879795543</td>\n",
       "      <td>1</td>\n",
       "    </tr>\n",
       "    <tr>\n",
       "      <th>99997</th>\n",
       "      <td>276</td>\n",
       "      <td>1090</td>\n",
       "      <td>1</td>\n",
       "      <td>874795795</td>\n",
       "      <td>0</td>\n",
       "    </tr>\n",
       "    <tr>\n",
       "      <th>99998</th>\n",
       "      <td>13</td>\n",
       "      <td>225</td>\n",
       "      <td>2</td>\n",
       "      <td>882399156</td>\n",
       "      <td>0</td>\n",
       "    </tr>\n",
       "    <tr>\n",
       "      <th>99999</th>\n",
       "      <td>12</td>\n",
       "      <td>203</td>\n",
       "      <td>3</td>\n",
       "      <td>879959583</td>\n",
       "      <td>0</td>\n",
       "    </tr>\n",
       "  </tbody>\n",
       "</table>\n",
       "<p>100000 rows × 5 columns</p>\n",
       "</div>"
      ],
      "text/plain": [
       "       user_id  item_id  rating  timestamp  positive\n",
       "0          196      242       3  881250949         0\n",
       "1          186      302       3  891717742         0\n",
       "2           22      377       1  878887116         0\n",
       "3          244       51       2  880606923         0\n",
       "4          166      346       1  886397596         0\n",
       "...        ...      ...     ...        ...       ...\n",
       "99995      880      476       3  880175444         0\n",
       "99996      716      204       5  879795543         1\n",
       "99997      276     1090       1  874795795         0\n",
       "99998       13      225       2  882399156         0\n",
       "99999       12      203       3  879959583         0\n",
       "\n",
       "[100000 rows x 5 columns]"
      ]
     },
     "execution_count": 421,
     "metadata": {},
     "output_type": "execute_result"
    }
   ],
   "source": [
    "df"
   ]
  },
  {
   "cell_type": "markdown",
   "metadata": {},
   "source": [
    "## Добавим неагрегированные атрибуты"
   ]
  },
  {
   "cell_type": "code",
   "execution_count": 342,
   "metadata": {
    "ExecuteTime": {
     "end_time": "2021-05-02T18:33:57.856012Z",
     "start_time": "2021-05-02T18:33:57.823450Z"
    }
   },
   "outputs": [],
   "source": [
    "df['positive'] = np.where(df.rating >= 4,1,0)"
   ]
  },
  {
   "cell_type": "markdown",
   "metadata": {},
   "source": [
    "## Глобальное среднее"
   ]
  },
  {
   "cell_type": "code",
   "execution_count": 343,
   "metadata": {
    "ExecuteTime": {
     "end_time": "2021-05-02T18:33:57.862710Z",
     "start_time": "2021-05-02T18:33:57.858397Z"
    }
   },
   "outputs": [
    {
     "data": {
      "text/plain": [
       "3.52986"
      ]
     },
     "execution_count": 343,
     "metadata": {},
     "output_type": "execute_result"
    }
   ],
   "source": [
    "global_avg = df.rating.mean()\n",
    "global_avg"
   ]
  },
  {
   "cell_type": "markdown",
   "metadata": {},
   "source": [
    "## Добавим агрегаты"
   ]
  },
  {
   "cell_type": "markdown",
   "metadata": {},
   "source": [
    "1. Количество человек n, поставивших рейтинг фильму .     \n",
    "2. Средний рейтинг фильма (сумма рейтингов фильма / количество человек, оценивших фильм)     \n",
    "3. Количество человек m, оценивших фильм положительно. Оценки 4 и выше считаются положительными.\n",
    "4. Доля людей, оценивших фильм положительно (пункт 3 / пункт 1)    \n",
    "5. Глобальное среднее по всему датасету. Сумма всех оценок по всем фильмам /Количество всех оценок по всем фильмам"
   ]
  },
  {
   "cell_type": "code",
   "execution_count": 504,
   "metadata": {
    "ExecuteTime": {
     "end_time": "2021-05-02T19:18:47.577852Z",
     "start_time": "2021-05-02T19:18:47.538716Z"
    }
   },
   "outputs": [],
   "source": [
    "df_aggr = df.groupby('item_id').agg(\n",
    "    n = ('user_id', 'count'),\n",
    "    rating_sum = ('rating', 'sum'),\n",
    "    rating_avg = ('rating', 'mean'),\n",
    "    m = ('positive', 'sum')\n",
    ")"
   ]
  },
  {
   "cell_type": "code",
   "execution_count": 505,
   "metadata": {
    "ExecuteTime": {
     "end_time": "2021-05-02T19:18:47.584559Z",
     "start_time": "2021-05-02T19:18:47.580016Z"
    }
   },
   "outputs": [],
   "source": [
    "df_aggr['p'] = df_aggr.m / df_aggr.n"
   ]
  },
  {
   "cell_type": "code",
   "execution_count": 506,
   "metadata": {
    "ExecuteTime": {
     "end_time": "2021-05-02T19:18:47.593615Z",
     "start_time": "2021-05-02T19:18:47.586881Z"
    },
    "scrolled": true
   },
   "outputs": [],
   "source": [
    "# Вернем id в столбцы чтобы не ошибиться с индексами\n",
    "df_aggr = \\\n",
    "    df_aggr\\\n",
    "    .reset_index(col_fill='item_id')\\\n",
    "    .rename(columns={'index':'item_id'})"
   ]
  },
  {
   "cell_type": "code",
   "execution_count": 507,
   "metadata": {
    "ExecuteTime": {
     "end_time": "2021-05-02T19:18:47.618398Z",
     "start_time": "2021-05-02T19:18:47.595710Z"
    }
   },
   "outputs": [
    {
     "data": {
      "text/html": [
       "<div>\n",
       "<style scoped>\n",
       "    .dataframe tbody tr th:only-of-type {\n",
       "        vertical-align: middle;\n",
       "    }\n",
       "\n",
       "    .dataframe tbody tr th {\n",
       "        vertical-align: top;\n",
       "    }\n",
       "\n",
       "    .dataframe thead th {\n",
       "        text-align: right;\n",
       "    }\n",
       "</style>\n",
       "<table border=\"1\" class=\"dataframe\">\n",
       "  <thead>\n",
       "    <tr style=\"text-align: right;\">\n",
       "      <th></th>\n",
       "      <th>item_id</th>\n",
       "      <th>n</th>\n",
       "      <th>rating_sum</th>\n",
       "      <th>rating_avg</th>\n",
       "      <th>m</th>\n",
       "      <th>p</th>\n",
       "    </tr>\n",
       "  </thead>\n",
       "  <tbody>\n",
       "    <tr>\n",
       "      <th>0</th>\n",
       "      <td>1</td>\n",
       "      <td>452</td>\n",
       "      <td>1753</td>\n",
       "      <td>3.878319</td>\n",
       "      <td>321</td>\n",
       "      <td>0.710177</td>\n",
       "    </tr>\n",
       "    <tr>\n",
       "      <th>1</th>\n",
       "      <td>2</td>\n",
       "      <td>131</td>\n",
       "      <td>420</td>\n",
       "      <td>3.206107</td>\n",
       "      <td>51</td>\n",
       "      <td>0.389313</td>\n",
       "    </tr>\n",
       "    <tr>\n",
       "      <th>2</th>\n",
       "      <td>3</td>\n",
       "      <td>90</td>\n",
       "      <td>273</td>\n",
       "      <td>3.033333</td>\n",
       "      <td>34</td>\n",
       "      <td>0.377778</td>\n",
       "    </tr>\n",
       "    <tr>\n",
       "      <th>3</th>\n",
       "      <td>4</td>\n",
       "      <td>209</td>\n",
       "      <td>742</td>\n",
       "      <td>3.550239</td>\n",
       "      <td>122</td>\n",
       "      <td>0.583732</td>\n",
       "    </tr>\n",
       "    <tr>\n",
       "      <th>4</th>\n",
       "      <td>5</td>\n",
       "      <td>86</td>\n",
       "      <td>284</td>\n",
       "      <td>3.302326</td>\n",
       "      <td>39</td>\n",
       "      <td>0.453488</td>\n",
       "    </tr>\n",
       "    <tr>\n",
       "      <th>...</th>\n",
       "      <td>...</td>\n",
       "      <td>...</td>\n",
       "      <td>...</td>\n",
       "      <td>...</td>\n",
       "      <td>...</td>\n",
       "      <td>...</td>\n",
       "    </tr>\n",
       "    <tr>\n",
       "      <th>1677</th>\n",
       "      <td>1678</td>\n",
       "      <td>1</td>\n",
       "      <td>1</td>\n",
       "      <td>1.000000</td>\n",
       "      <td>0</td>\n",
       "      <td>0.000000</td>\n",
       "    </tr>\n",
       "    <tr>\n",
       "      <th>1678</th>\n",
       "      <td>1679</td>\n",
       "      <td>1</td>\n",
       "      <td>3</td>\n",
       "      <td>3.000000</td>\n",
       "      <td>0</td>\n",
       "      <td>0.000000</td>\n",
       "    </tr>\n",
       "    <tr>\n",
       "      <th>1679</th>\n",
       "      <td>1680</td>\n",
       "      <td>1</td>\n",
       "      <td>2</td>\n",
       "      <td>2.000000</td>\n",
       "      <td>0</td>\n",
       "      <td>0.000000</td>\n",
       "    </tr>\n",
       "    <tr>\n",
       "      <th>1680</th>\n",
       "      <td>1681</td>\n",
       "      <td>1</td>\n",
       "      <td>3</td>\n",
       "      <td>3.000000</td>\n",
       "      <td>0</td>\n",
       "      <td>0.000000</td>\n",
       "    </tr>\n",
       "    <tr>\n",
       "      <th>1681</th>\n",
       "      <td>1682</td>\n",
       "      <td>1</td>\n",
       "      <td>3</td>\n",
       "      <td>3.000000</td>\n",
       "      <td>0</td>\n",
       "      <td>0.000000</td>\n",
       "    </tr>\n",
       "  </tbody>\n",
       "</table>\n",
       "<p>1682 rows × 6 columns</p>\n",
       "</div>"
      ],
      "text/plain": [
       "      item_id    n  rating_sum  rating_avg    m         p\n",
       "0           1  452        1753    3.878319  321  0.710177\n",
       "1           2  131         420    3.206107   51  0.389313\n",
       "2           3   90         273    3.033333   34  0.377778\n",
       "3           4  209         742    3.550239  122  0.583732\n",
       "4           5   86         284    3.302326   39  0.453488\n",
       "...       ...  ...         ...         ...  ...       ...\n",
       "1677     1678    1           1    1.000000    0  0.000000\n",
       "1678     1679    1           3    3.000000    0  0.000000\n",
       "1679     1680    1           2    2.000000    0  0.000000\n",
       "1680     1681    1           3    3.000000    0  0.000000\n",
       "1681     1682    1           3    3.000000    0  0.000000\n",
       "\n",
       "[1682 rows x 6 columns]"
      ]
     },
     "execution_count": 507,
     "metadata": {},
     "output_type": "execute_result"
    }
   ],
   "source": [
    "df_aggr"
   ]
  },
  {
   "cell_type": "markdown",
   "metadata": {},
   "source": [
    "## Вычисления поверх агрегатов"
   ]
  },
  {
   "cell_type": "code",
   "execution_count": 508,
   "metadata": {
    "ExecuteTime": {
     "end_time": "2021-05-02T19:18:47.624576Z",
     "start_time": "2021-05-02T19:18:47.620657Z"
    }
   },
   "outputs": [],
   "source": [
    "#Оценку, поправленную на нехватку данных\n",
    "def avg_adj(df):\n",
    "    result = (df.rating_sum + k*global_avg) / (df.n + k)\n",
    "    return result"
   ]
  },
  {
   "cell_type": "code",
   "execution_count": 510,
   "metadata": {
    "ExecuteTime": {
     "end_time": "2021-05-02T19:18:47.640859Z",
     "start_time": "2021-05-02T19:18:47.634567Z"
    }
   },
   "outputs": [],
   "source": [
    "#Нижнюю и верхнюю границы доверительного интервала оценки\n",
    "#(Wilson score interval) из лекции с заданным уровнем доверия\n",
    "def wilson(df):\n",
    "    denominator = 1 + z*z/df.n\n",
    "    centre_adj_prob = df.p + z*z / (2*df.n)\n",
    "    adj_std_deviation = sqrt((df.p*(1 - df.p))/ df.n + z*z / (4*df.n**2)) \n",
    "    \n",
    "    lower_bound = (centre_adj_prob - z*adj_std_deviation) / denominator\n",
    "    upper_bound = (centre_adj_prob + z*adj_std_deviation) / denominator\n",
    "    return lower_bound, upper_bound"
   ]
  },
  {
   "cell_type": "code",
   "execution_count": 511,
   "metadata": {
    "ExecuteTime": {
     "end_time": "2021-05-02T19:18:47.698566Z",
     "start_time": "2021-05-02T19:18:47.642951Z"
    }
   },
   "outputs": [],
   "source": [
    "df_aggr['avg_adj'] = df_aggr.apply(avg_adj, axis = 1)"
   ]
  },
  {
   "cell_type": "code",
   "execution_count": 512,
   "metadata": {
    "ExecuteTime": {
     "end_time": "2021-05-02T19:18:47.873694Z",
     "start_time": "2021-05-02T19:18:47.700852Z"
    }
   },
   "outputs": [],
   "source": [
    "# Если функция выдает больше 1 столбца то сначала проще распаковать в df\n",
    "df_wilson = \\\n",
    "    pd.DataFrame(df_aggr.apply(wilson, axis = 1).tolist())\\\n",
    "    .rename(columns={0:'lower_bound', 1:'upper_bound'})"
   ]
  },
  {
   "cell_type": "code",
   "execution_count": 513,
   "metadata": {
    "ExecuteTime": {
     "end_time": "2021-05-02T19:18:47.881957Z",
     "start_time": "2021-05-02T19:18:47.875971Z"
    }
   },
   "outputs": [],
   "source": [
    "# добавить доверительный интервал к основному df\n",
    "df_aggr = \\\n",
    "    df_aggr.merge(\n",
    "        df_wilson, \n",
    "        left_index=True, \n",
    "        right_index=True, \n",
    "        how='left'\n",
    ")"
   ]
  },
  {
   "cell_type": "code",
   "execution_count": 514,
   "metadata": {
    "ExecuteTime": {
     "end_time": "2021-05-02T19:18:47.978467Z",
     "start_time": "2021-05-02T19:18:47.883828Z"
    }
   },
   "outputs": [
    {
     "data": {
      "text/html": [
       "<div>\n",
       "<style scoped>\n",
       "    .dataframe tbody tr th:only-of-type {\n",
       "        vertical-align: middle;\n",
       "    }\n",
       "\n",
       "    .dataframe tbody tr th {\n",
       "        vertical-align: top;\n",
       "    }\n",
       "\n",
       "    .dataframe thead th {\n",
       "        text-align: right;\n",
       "    }\n",
       "</style>\n",
       "<table border=\"1\" class=\"dataframe\">\n",
       "  <thead>\n",
       "    <tr style=\"text-align: right;\">\n",
       "      <th></th>\n",
       "      <th>item_id</th>\n",
       "      <th>n</th>\n",
       "      <th>rating_sum</th>\n",
       "      <th>rating_avg</th>\n",
       "      <th>m</th>\n",
       "      <th>p</th>\n",
       "      <th>avg_adj</th>\n",
       "      <th>lower_bound</th>\n",
       "      <th>upper_bound</th>\n",
       "    </tr>\n",
       "  </thead>\n",
       "  <tbody>\n",
       "    <tr>\n",
       "      <th>0</th>\n",
       "      <td>1</td>\n",
       "      <td>452</td>\n",
       "      <td>1753</td>\n",
       "      <td>3.878319</td>\n",
       "      <td>321</td>\n",
       "      <td>0.710177</td>\n",
       "      <td>3.870776</td>\n",
       "      <td>0.635683</td>\n",
       "      <td>0.774834</td>\n",
       "    </tr>\n",
       "    <tr>\n",
       "      <th>1</th>\n",
       "      <td>2</td>\n",
       "      <td>131</td>\n",
       "      <td>420</td>\n",
       "      <td>3.206107</td>\n",
       "      <td>51</td>\n",
       "      <td>0.389313</td>\n",
       "      <td>3.229068</td>\n",
       "      <td>0.262759</td>\n",
       "      <td>0.532772</td>\n",
       "    </tr>\n",
       "    <tr>\n",
       "      <th>2</th>\n",
       "      <td>3</td>\n",
       "      <td>90</td>\n",
       "      <td>273</td>\n",
       "      <td>3.033333</td>\n",
       "      <td>34</td>\n",
       "      <td>0.377778</td>\n",
       "      <td>3.082986</td>\n",
       "      <td>0.231465</td>\n",
       "      <td>0.550347</td>\n",
       "    </tr>\n",
       "    <tr>\n",
       "      <th>3</th>\n",
       "      <td>4</td>\n",
       "      <td>209</td>\n",
       "      <td>742</td>\n",
       "      <td>3.550239</td>\n",
       "      <td>122</td>\n",
       "      <td>0.583732</td>\n",
       "      <td>3.549309</td>\n",
       "      <td>0.470114</td>\n",
       "      <td>0.689099</td>\n",
       "    </tr>\n",
       "    <tr>\n",
       "      <th>4</th>\n",
       "      <td>5</td>\n",
       "      <td>86</td>\n",
       "      <td>284</td>\n",
       "      <td>3.302326</td>\n",
       "      <td>39</td>\n",
       "      <td>0.453488</td>\n",
       "      <td>3.326027</td>\n",
       "      <td>0.292113</td>\n",
       "      <td>0.625268</td>\n",
       "    </tr>\n",
       "    <tr>\n",
       "      <th>...</th>\n",
       "      <td>...</td>\n",
       "      <td>...</td>\n",
       "      <td>...</td>\n",
       "      <td>...</td>\n",
       "      <td>...</td>\n",
       "      <td>...</td>\n",
       "      <td>...</td>\n",
       "      <td>...</td>\n",
       "      <td>...</td>\n",
       "    </tr>\n",
       "    <tr>\n",
       "      <th>1677</th>\n",
       "      <td>1678</td>\n",
       "      <td>1</td>\n",
       "      <td>1</td>\n",
       "      <td>1.000000</td>\n",
       "      <td>0</td>\n",
       "      <td>0.000000</td>\n",
       "      <td>3.299873</td>\n",
       "      <td>0.000000</td>\n",
       "      <td>0.915474</td>\n",
       "    </tr>\n",
       "    <tr>\n",
       "      <th>1678</th>\n",
       "      <td>1679</td>\n",
       "      <td>1</td>\n",
       "      <td>3</td>\n",
       "      <td>3.000000</td>\n",
       "      <td>0</td>\n",
       "      <td>0.000000</td>\n",
       "      <td>3.481691</td>\n",
       "      <td>0.000000</td>\n",
       "      <td>0.915474</td>\n",
       "    </tr>\n",
       "    <tr>\n",
       "      <th>1679</th>\n",
       "      <td>1680</td>\n",
       "      <td>1</td>\n",
       "      <td>2</td>\n",
       "      <td>2.000000</td>\n",
       "      <td>0</td>\n",
       "      <td>0.000000</td>\n",
       "      <td>3.390782</td>\n",
       "      <td>0.000000</td>\n",
       "      <td>0.915474</td>\n",
       "    </tr>\n",
       "    <tr>\n",
       "      <th>1680</th>\n",
       "      <td>1681</td>\n",
       "      <td>1</td>\n",
       "      <td>3</td>\n",
       "      <td>3.000000</td>\n",
       "      <td>0</td>\n",
       "      <td>0.000000</td>\n",
       "      <td>3.481691</td>\n",
       "      <td>0.000000</td>\n",
       "      <td>0.915474</td>\n",
       "    </tr>\n",
       "    <tr>\n",
       "      <th>1681</th>\n",
       "      <td>1682</td>\n",
       "      <td>1</td>\n",
       "      <td>3</td>\n",
       "      <td>3.000000</td>\n",
       "      <td>0</td>\n",
       "      <td>0.000000</td>\n",
       "      <td>3.481691</td>\n",
       "      <td>0.000000</td>\n",
       "      <td>0.915474</td>\n",
       "    </tr>\n",
       "  </tbody>\n",
       "</table>\n",
       "<p>1682 rows × 9 columns</p>\n",
       "</div>"
      ],
      "text/plain": [
       "      item_id    n  rating_sum  rating_avg    m         p   avg_adj  \\\n",
       "0           1  452        1753    3.878319  321  0.710177  3.870776   \n",
       "1           2  131         420    3.206107   51  0.389313  3.229068   \n",
       "2           3   90         273    3.033333   34  0.377778  3.082986   \n",
       "3           4  209         742    3.550239  122  0.583732  3.549309   \n",
       "4           5   86         284    3.302326   39  0.453488  3.326027   \n",
       "...       ...  ...         ...         ...  ...       ...       ...   \n",
       "1677     1678    1           1    1.000000    0  0.000000  3.299873   \n",
       "1678     1679    1           3    3.000000    0  0.000000  3.481691   \n",
       "1679     1680    1           2    2.000000    0  0.000000  3.390782   \n",
       "1680     1681    1           3    3.000000    0  0.000000  3.481691   \n",
       "1681     1682    1           3    3.000000    0  0.000000  3.481691   \n",
       "\n",
       "      lower_bound  upper_bound  \n",
       "0        0.635683     0.774834  \n",
       "1        0.262759     0.532772  \n",
       "2        0.231465     0.550347  \n",
       "3        0.470114     0.689099  \n",
       "4        0.292113     0.625268  \n",
       "...           ...          ...  \n",
       "1677     0.000000     0.915474  \n",
       "1678     0.000000     0.915474  \n",
       "1679     0.000000     0.915474  \n",
       "1680     0.000000     0.915474  \n",
       "1681     0.000000     0.915474  \n",
       "\n",
       "[1682 rows x 9 columns]"
      ]
     },
     "execution_count": 514,
     "metadata": {},
     "output_type": "execute_result"
    }
   ],
   "source": [
    "df_aggr"
   ]
  },
  {
   "cell_type": "markdown",
   "metadata": {},
   "source": [
    "## Добавим названия фильмов\n",
    "\n",
    "Были сложности при копировании файла из-за кодировки\n",
    "```bash\n",
    "hadoop fs -cat /labs/lab06data/ml-100k/u.item | iconv -c -t UTF-8 > u.item\n",
    "```\n"
   ]
  },
  {
   "cell_type": "code",
   "execution_count": 515,
   "metadata": {
    "ExecuteTime": {
     "end_time": "2021-05-02T19:18:47.989403Z",
     "start_time": "2021-05-02T19:18:47.980701Z"
    }
   },
   "outputs": [],
   "source": [
    "item_col_lst = [\n",
    "    \n",
    "    'movie_id',\n",
    "    'movie_title',\n",
    "    'release_date',\n",
    "    'video_release_date',\n",
    "    'imdb_url',\n",
    "    'unknown',\n",
    "    'action',\n",
    "    'adventure',\n",
    "    'animation',\n",
    "    'children',\n",
    "    'comedy',\n",
    "    'crime',\n",
    "    'documentary',\n",
    "    'drama',\n",
    "    'fantasy',\n",
    "    'film-Noir', \n",
    "    'horror',\n",
    "    'musical',\n",
    "    'mystery',\n",
    "    'romance',\n",
    "    'sci-Fi',\n",
    "    'thriller',\n",
    "    'war',\n",
    "    'western',\n",
    "\n",
    "]"
   ]
  },
  {
   "cell_type": "code",
   "execution_count": 516,
   "metadata": {
    "ExecuteTime": {
     "end_time": "2021-05-02T19:18:48.007446Z",
     "start_time": "2021-05-02T19:18:47.991645Z"
    }
   },
   "outputs": [],
   "source": [
    "df_item_ref = pd.read_csv(\n",
    "    'u.item', \n",
    "    delimiter='|', \n",
    "    header=None, \n",
    "    names=item_col_lst,\n",
    "    index_col=None\n",
    ")"
   ]
  },
  {
   "cell_type": "code",
   "execution_count": 517,
   "metadata": {
    "ExecuteTime": {
     "end_time": "2021-05-02T19:18:48.033452Z",
     "start_time": "2021-05-02T19:18:48.009836Z"
    }
   },
   "outputs": [
    {
     "data": {
      "text/html": [
       "<div>\n",
       "<style scoped>\n",
       "    .dataframe tbody tr th:only-of-type {\n",
       "        vertical-align: middle;\n",
       "    }\n",
       "\n",
       "    .dataframe tbody tr th {\n",
       "        vertical-align: top;\n",
       "    }\n",
       "\n",
       "    .dataframe thead th {\n",
       "        text-align: right;\n",
       "    }\n",
       "</style>\n",
       "<table border=\"1\" class=\"dataframe\">\n",
       "  <thead>\n",
       "    <tr style=\"text-align: right;\">\n",
       "      <th></th>\n",
       "      <th>movie_id</th>\n",
       "      <th>movie_title</th>\n",
       "      <th>release_date</th>\n",
       "      <th>video_release_date</th>\n",
       "      <th>imdb_url</th>\n",
       "      <th>unknown</th>\n",
       "      <th>action</th>\n",
       "      <th>adventure</th>\n",
       "      <th>animation</th>\n",
       "      <th>children</th>\n",
       "      <th>...</th>\n",
       "      <th>fantasy</th>\n",
       "      <th>film-Noir</th>\n",
       "      <th>horror</th>\n",
       "      <th>musical</th>\n",
       "      <th>mystery</th>\n",
       "      <th>romance</th>\n",
       "      <th>sci-Fi</th>\n",
       "      <th>thriller</th>\n",
       "      <th>war</th>\n",
       "      <th>western</th>\n",
       "    </tr>\n",
       "  </thead>\n",
       "  <tbody>\n",
       "    <tr>\n",
       "      <th>0</th>\n",
       "      <td>1</td>\n",
       "      <td>Toy Story (1995)</td>\n",
       "      <td>01-Jan-1995</td>\n",
       "      <td>NaN</td>\n",
       "      <td>http://us.imdb.com/M/title-exact?Toy%20Story%2...</td>\n",
       "      <td>0</td>\n",
       "      <td>0</td>\n",
       "      <td>0</td>\n",
       "      <td>1</td>\n",
       "      <td>1</td>\n",
       "      <td>...</td>\n",
       "      <td>0</td>\n",
       "      <td>0</td>\n",
       "      <td>0</td>\n",
       "      <td>0</td>\n",
       "      <td>0</td>\n",
       "      <td>0</td>\n",
       "      <td>0</td>\n",
       "      <td>0</td>\n",
       "      <td>0</td>\n",
       "      <td>0</td>\n",
       "    </tr>\n",
       "    <tr>\n",
       "      <th>1</th>\n",
       "      <td>2</td>\n",
       "      <td>GoldenEye (1995)</td>\n",
       "      <td>01-Jan-1995</td>\n",
       "      <td>NaN</td>\n",
       "      <td>http://us.imdb.com/M/title-exact?GoldenEye%20(...</td>\n",
       "      <td>0</td>\n",
       "      <td>1</td>\n",
       "      <td>1</td>\n",
       "      <td>0</td>\n",
       "      <td>0</td>\n",
       "      <td>...</td>\n",
       "      <td>0</td>\n",
       "      <td>0</td>\n",
       "      <td>0</td>\n",
       "      <td>0</td>\n",
       "      <td>0</td>\n",
       "      <td>0</td>\n",
       "      <td>0</td>\n",
       "      <td>1</td>\n",
       "      <td>0</td>\n",
       "      <td>0</td>\n",
       "    </tr>\n",
       "    <tr>\n",
       "      <th>2</th>\n",
       "      <td>3</td>\n",
       "      <td>Four Rooms (1995)</td>\n",
       "      <td>01-Jan-1995</td>\n",
       "      <td>NaN</td>\n",
       "      <td>http://us.imdb.com/M/title-exact?Four%20Rooms%...</td>\n",
       "      <td>0</td>\n",
       "      <td>0</td>\n",
       "      <td>0</td>\n",
       "      <td>0</td>\n",
       "      <td>0</td>\n",
       "      <td>...</td>\n",
       "      <td>0</td>\n",
       "      <td>0</td>\n",
       "      <td>0</td>\n",
       "      <td>0</td>\n",
       "      <td>0</td>\n",
       "      <td>0</td>\n",
       "      <td>0</td>\n",
       "      <td>1</td>\n",
       "      <td>0</td>\n",
       "      <td>0</td>\n",
       "    </tr>\n",
       "  </tbody>\n",
       "</table>\n",
       "<p>3 rows × 24 columns</p>\n",
       "</div>"
      ],
      "text/plain": [
       "   movie_id        movie_title release_date  video_release_date  \\\n",
       "0         1   Toy Story (1995)  01-Jan-1995                 NaN   \n",
       "1         2   GoldenEye (1995)  01-Jan-1995                 NaN   \n",
       "2         3  Four Rooms (1995)  01-Jan-1995                 NaN   \n",
       "\n",
       "                                            imdb_url  unknown  action  \\\n",
       "0  http://us.imdb.com/M/title-exact?Toy%20Story%2...        0       0   \n",
       "1  http://us.imdb.com/M/title-exact?GoldenEye%20(...        0       1   \n",
       "2  http://us.imdb.com/M/title-exact?Four%20Rooms%...        0       0   \n",
       "\n",
       "   adventure  animation  children  ...  fantasy  film-Noir  horror  musical  \\\n",
       "0          0          1         1  ...        0          0       0        0   \n",
       "1          1          0         0  ...        0          0       0        0   \n",
       "2          0          0         0  ...        0          0       0        0   \n",
       "\n",
       "   mystery  romance  sci-Fi  thriller  war  western  \n",
       "0        0        0       0         0    0        0  \n",
       "1        0        0       0         1    0        0  \n",
       "2        0        0       0         1    0        0  \n",
       "\n",
       "[3 rows x 24 columns]"
      ]
     },
     "execution_count": 517,
     "metadata": {},
     "output_type": "execute_result"
    }
   ],
   "source": [
    "df_item_ref.head(3)"
   ]
  },
  {
   "cell_type": "code",
   "execution_count": 518,
   "metadata": {
    "ExecuteTime": {
     "end_time": "2021-05-02T19:18:48.071605Z",
     "start_time": "2021-05-02T19:18:48.035492Z"
    },
    "scrolled": true
   },
   "outputs": [
    {
     "data": {
      "text/html": [
       "<div>\n",
       "<style scoped>\n",
       "    .dataframe tbody tr th:only-of-type {\n",
       "        vertical-align: middle;\n",
       "    }\n",
       "\n",
       "    .dataframe tbody tr th {\n",
       "        vertical-align: top;\n",
       "    }\n",
       "\n",
       "    .dataframe thead th {\n",
       "        text-align: right;\n",
       "    }\n",
       "</style>\n",
       "<table border=\"1\" class=\"dataframe\">\n",
       "  <thead>\n",
       "    <tr style=\"text-align: right;\">\n",
       "      <th></th>\n",
       "      <th>item_id</th>\n",
       "      <th>n</th>\n",
       "      <th>rating_sum</th>\n",
       "      <th>rating_avg</th>\n",
       "      <th>m</th>\n",
       "      <th>p</th>\n",
       "      <th>avg_adj</th>\n",
       "      <th>lower_bound</th>\n",
       "      <th>upper_bound</th>\n",
       "      <th>movie_id</th>\n",
       "      <th>movie_title</th>\n",
       "    </tr>\n",
       "  </thead>\n",
       "  <tbody>\n",
       "    <tr>\n",
       "      <th>0</th>\n",
       "      <td>1</td>\n",
       "      <td>452</td>\n",
       "      <td>1753</td>\n",
       "      <td>3.878319</td>\n",
       "      <td>321</td>\n",
       "      <td>0.710177</td>\n",
       "      <td>3.870776</td>\n",
       "      <td>0.635683</td>\n",
       "      <td>0.774834</td>\n",
       "      <td>1</td>\n",
       "      <td>Toy Story (1995)</td>\n",
       "    </tr>\n",
       "    <tr>\n",
       "      <th>1</th>\n",
       "      <td>2</td>\n",
       "      <td>131</td>\n",
       "      <td>420</td>\n",
       "      <td>3.206107</td>\n",
       "      <td>51</td>\n",
       "      <td>0.389313</td>\n",
       "      <td>3.229068</td>\n",
       "      <td>0.262759</td>\n",
       "      <td>0.532772</td>\n",
       "      <td>2</td>\n",
       "      <td>GoldenEye (1995)</td>\n",
       "    </tr>\n",
       "    <tr>\n",
       "      <th>2</th>\n",
       "      <td>3</td>\n",
       "      <td>90</td>\n",
       "      <td>273</td>\n",
       "      <td>3.033333</td>\n",
       "      <td>34</td>\n",
       "      <td>0.377778</td>\n",
       "      <td>3.082986</td>\n",
       "      <td>0.231465</td>\n",
       "      <td>0.550347</td>\n",
       "      <td>3</td>\n",
       "      <td>Four Rooms (1995)</td>\n",
       "    </tr>\n",
       "    <tr>\n",
       "      <th>3</th>\n",
       "      <td>4</td>\n",
       "      <td>209</td>\n",
       "      <td>742</td>\n",
       "      <td>3.550239</td>\n",
       "      <td>122</td>\n",
       "      <td>0.583732</td>\n",
       "      <td>3.549309</td>\n",
       "      <td>0.470114</td>\n",
       "      <td>0.689099</td>\n",
       "      <td>4</td>\n",
       "      <td>Get Shorty (1995)</td>\n",
       "    </tr>\n",
       "    <tr>\n",
       "      <th>4</th>\n",
       "      <td>5</td>\n",
       "      <td>86</td>\n",
       "      <td>284</td>\n",
       "      <td>3.302326</td>\n",
       "      <td>39</td>\n",
       "      <td>0.453488</td>\n",
       "      <td>3.326027</td>\n",
       "      <td>0.292113</td>\n",
       "      <td>0.625268</td>\n",
       "      <td>5</td>\n",
       "      <td>Copycat (1995)</td>\n",
       "    </tr>\n",
       "    <tr>\n",
       "      <th>...</th>\n",
       "      <td>...</td>\n",
       "      <td>...</td>\n",
       "      <td>...</td>\n",
       "      <td>...</td>\n",
       "      <td>...</td>\n",
       "      <td>...</td>\n",
       "      <td>...</td>\n",
       "      <td>...</td>\n",
       "      <td>...</td>\n",
       "      <td>...</td>\n",
       "      <td>...</td>\n",
       "    </tr>\n",
       "    <tr>\n",
       "      <th>1677</th>\n",
       "      <td>1678</td>\n",
       "      <td>1</td>\n",
       "      <td>1</td>\n",
       "      <td>1.000000</td>\n",
       "      <td>0</td>\n",
       "      <td>0.000000</td>\n",
       "      <td>3.299873</td>\n",
       "      <td>0.000000</td>\n",
       "      <td>0.915474</td>\n",
       "      <td>1678</td>\n",
       "      <td>Mat' i syn (1997)</td>\n",
       "    </tr>\n",
       "    <tr>\n",
       "      <th>1678</th>\n",
       "      <td>1679</td>\n",
       "      <td>1</td>\n",
       "      <td>3</td>\n",
       "      <td>3.000000</td>\n",
       "      <td>0</td>\n",
       "      <td>0.000000</td>\n",
       "      <td>3.481691</td>\n",
       "      <td>0.000000</td>\n",
       "      <td>0.915474</td>\n",
       "      <td>1679</td>\n",
       "      <td>B. Monkey (1998)</td>\n",
       "    </tr>\n",
       "    <tr>\n",
       "      <th>1679</th>\n",
       "      <td>1680</td>\n",
       "      <td>1</td>\n",
       "      <td>2</td>\n",
       "      <td>2.000000</td>\n",
       "      <td>0</td>\n",
       "      <td>0.000000</td>\n",
       "      <td>3.390782</td>\n",
       "      <td>0.000000</td>\n",
       "      <td>0.915474</td>\n",
       "      <td>1680</td>\n",
       "      <td>Sliding Doors (1998)</td>\n",
       "    </tr>\n",
       "    <tr>\n",
       "      <th>1680</th>\n",
       "      <td>1681</td>\n",
       "      <td>1</td>\n",
       "      <td>3</td>\n",
       "      <td>3.000000</td>\n",
       "      <td>0</td>\n",
       "      <td>0.000000</td>\n",
       "      <td>3.481691</td>\n",
       "      <td>0.000000</td>\n",
       "      <td>0.915474</td>\n",
       "      <td>1681</td>\n",
       "      <td>You So Crazy (1994)</td>\n",
       "    </tr>\n",
       "    <tr>\n",
       "      <th>1681</th>\n",
       "      <td>1682</td>\n",
       "      <td>1</td>\n",
       "      <td>3</td>\n",
       "      <td>3.000000</td>\n",
       "      <td>0</td>\n",
       "      <td>0.000000</td>\n",
       "      <td>3.481691</td>\n",
       "      <td>0.000000</td>\n",
       "      <td>0.915474</td>\n",
       "      <td>1682</td>\n",
       "      <td>Scream of Stone (Schrei aus Stein) (1991)</td>\n",
       "    </tr>\n",
       "  </tbody>\n",
       "</table>\n",
       "<p>1682 rows × 11 columns</p>\n",
       "</div>"
      ],
      "text/plain": [
       "      item_id    n  rating_sum  rating_avg    m         p   avg_adj  \\\n",
       "0           1  452        1753    3.878319  321  0.710177  3.870776   \n",
       "1           2  131         420    3.206107   51  0.389313  3.229068   \n",
       "2           3   90         273    3.033333   34  0.377778  3.082986   \n",
       "3           4  209         742    3.550239  122  0.583732  3.549309   \n",
       "4           5   86         284    3.302326   39  0.453488  3.326027   \n",
       "...       ...  ...         ...         ...  ...       ...       ...   \n",
       "1677     1678    1           1    1.000000    0  0.000000  3.299873   \n",
       "1678     1679    1           3    3.000000    0  0.000000  3.481691   \n",
       "1679     1680    1           2    2.000000    0  0.000000  3.390782   \n",
       "1680     1681    1           3    3.000000    0  0.000000  3.481691   \n",
       "1681     1682    1           3    3.000000    0  0.000000  3.481691   \n",
       "\n",
       "      lower_bound  upper_bound  movie_id  \\\n",
       "0        0.635683     0.774834         1   \n",
       "1        0.262759     0.532772         2   \n",
       "2        0.231465     0.550347         3   \n",
       "3        0.470114     0.689099         4   \n",
       "4        0.292113     0.625268         5   \n",
       "...           ...          ...       ...   \n",
       "1677     0.000000     0.915474      1678   \n",
       "1678     0.000000     0.915474      1679   \n",
       "1679     0.000000     0.915474      1680   \n",
       "1680     0.000000     0.915474      1681   \n",
       "1681     0.000000     0.915474      1682   \n",
       "\n",
       "                                    movie_title  \n",
       "0                              Toy Story (1995)  \n",
       "1                              GoldenEye (1995)  \n",
       "2                             Four Rooms (1995)  \n",
       "3                             Get Shorty (1995)  \n",
       "4                                Copycat (1995)  \n",
       "...                                         ...  \n",
       "1677                          Mat' i syn (1997)  \n",
       "1678                           B. Monkey (1998)  \n",
       "1679                       Sliding Doors (1998)  \n",
       "1680                        You So Crazy (1994)  \n",
       "1681  Scream of Stone (Schrei aus Stein) (1991)  \n",
       "\n",
       "[1682 rows x 11 columns]"
      ]
     },
     "execution_count": 518,
     "metadata": {},
     "output_type": "execute_result"
    }
   ],
   "source": [
    "df_aggr = \\\n",
    "    df_aggr.merge(\n",
    "        df_item_ref[['movie_id','movie_title']],\n",
    "        left_on='item_id',\n",
    "        right_on='movie_id'\n",
    ")\n",
    "\n",
    "df_aggr"
   ]
  },
  {
   "cell_type": "markdown",
   "metadata": {},
   "source": [
    "## Рейтинги"
   ]
  },
  {
   "cell_type": "code",
   "execution_count": 525,
   "metadata": {
    "ExecuteTime": {
     "end_time": "2021-05-02T19:31:16.386806Z",
     "start_time": "2021-05-02T19:31:16.352002Z"
    }
   },
   "outputs": [],
   "source": [
    "def get_top10_ids(field):\n",
    "    result = \\\n",
    "        df_aggr\\\n",
    "        .sort_values(by=[field, 'movie_title'], ascending=(False, True))\\\n",
    "        .head(10)['item_id']\\\n",
    "        .tolist()\n",
    "    print(result)\n",
    "    return result"
   ]
  },
  {
   "cell_type": "code",
   "execution_count": 528,
   "metadata": {
    "ExecuteTime": {
     "end_time": "2021-05-02T19:32:21.972283Z",
     "start_time": "2021-05-02T19:32:21.945928Z"
    }
   },
   "outputs": [
    {
     "name": "stdout",
     "output_type": "stream",
     "text": [
      "[50, 258, 100, 181, 294, 286, 288, 1, 300, 121]\n",
      "[1536, 1653, 814, 1201, 1189, 1467, 1500, 1599, 1293, 1122]\n",
      "[318, 483, 64, 408, 169, 12, 603, 50, 114, 178]\n",
      "[64, 98, 318, 479, 50, 483, 603, 427, 357, 12]\n"
     ]
    }
   ],
   "source": [
    "top10_rates = get_top10_ids('n')\n",
    "top10_average = get_top10_ids('rating_avg')\n",
    "top10_rating = get_top10_ids('avg_adj')\n",
    "top10_lower = get_top10_ids('lower_bound')"
   ]
  },
  {
   "cell_type": "markdown",
   "metadata": {},
   "source": [
    "## Результат"
   ]
  },
  {
   "cell_type": "code",
   "execution_count": 523,
   "metadata": {
    "ExecuteTime": {
     "end_time": "2021-05-02T19:18:48.187545Z",
     "start_time": "2021-05-02T19:18:48.184177Z"
    }
   },
   "outputs": [],
   "source": [
    "result_dic = {\n",
    "    \"top10_rates\": top10_rates,\n",
    "    \"top10_average\": top10_average,\n",
    "    \"top10_rating\": top10_rating,\n",
    "    \"top10_lower\": top10_lower \n",
    "}"
   ]
  },
  {
   "cell_type": "code",
   "execution_count": 524,
   "metadata": {
    "ExecuteTime": {
     "end_time": "2021-05-02T19:18:48.223310Z",
     "start_time": "2021-05-02T19:18:48.189662Z"
    }
   },
   "outputs": [],
   "source": [
    "with open('../lab06s.json', 'w') as outfile:\n",
    "    json.dump(result_dic, outfile)"
   ]
  }
 ],
 "metadata": {
  "kernelspec": {
   "display_name": "Python 3",
   "language": "python",
   "name": "python3"
  },
  "language_info": {
   "codemirror_mode": {
    "name": "ipython",
    "version": 3
   },
   "file_extension": ".py",
   "mimetype": "text/x-python",
   "name": "python",
   "nbconvert_exporter": "python",
   "pygments_lexer": "ipython3",
   "version": "3.6.5"
  },
  "toc": {
   "base_numbering": 1,
   "nav_menu": {},
   "number_sections": true,
   "sideBar": true,
   "skip_h1_title": false,
   "title_cell": "Table of Contents",
   "title_sidebar": "Contents",
   "toc_cell": false,
   "toc_position": {},
   "toc_section_display": true,
   "toc_window_display": false
  }
 },
 "nbformat": 4,
 "nbformat_minor": 2
}
