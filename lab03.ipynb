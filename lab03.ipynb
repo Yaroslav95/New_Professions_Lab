{
 "cells": [
  {
   "cell_type": "markdown",
   "metadata": {},
   "source": [
    "## Лаба 3. Классификация пользователей по интересам в Hive"
   ]
  },
  {
   "cell_type": "markdown",
   "metadata": {},
   "source": [
    "### Пользователь принадлежит к какой-либо категории, если он посетил хотя бы один из доменов категории хотя бы 10 раз."
   ]
  },
  {
   "cell_type": "code",
   "execution_count": null,
   "metadata": {},
   "outputs": [],
   "source": [
    "#!/opt/anaconda/envs/bd9/bin/python\n",
    "# coding: utf-8\n",
    "import sys\n",
    "from urllib.parse import urlparse, unquote\n",
    "import re\n",
    "def url2domain(url):\n",
    "    try:\n",
    "        a = urlparse(unquote(url.strip()))\n",
    "        if (a.scheme in ['http','https']):\n",
    "            b = re.search(\"(?:www\\.)?(.*)\",a.netloc).group(1)\n",
    "            if b is not None:\n",
    "                return str(b).strip()\n",
    "            else:\n",
    "                return ''\n",
    "        else:\n",
    "            return ''\n",
    "    except:\n",
    "        return\n",
    "    \n",
    "category1 = [u'cars.ru', u'avto-russia.ru', u'bmwclub.ru']\n",
    "category2 = ['samara-papa.ru', 'vodvore.net', 'mama51.ru']\n",
    "category3 = [('sp.krasmama.ru', 'forum.krasmama.ru', 'forum.omskmama.ru']\n",
    "category4 = ['novayagazeta.ru', 'echo.msk.ru', 'inosmi.ru']\n",
    "              \n",
    "for line in sys.stdin:\n",
    "    line = line.strip().split('\\t')\n",
    "    if len(line)==3:\n",
    "        uid, ts ,url = line\n",
    "        if uid != '-' and (url.startswith ('http') or url.startswith ('https')):\n",
    "            domain=url2domain(url)\n",
    "            if domain in category1:\n",
    "                print(int(uid),'\\t',domain,'\\t','cat1')\n",
    "            if domain in category2:\n",
    "                print(int(uid),'\\t',domain,'\\t','cat2')\n",
    "            if domain in category3:\n",
    "                print(int(uid),'\\t',domain,'\\t','cat3')\n",
    "            if domain in category4:\n",
    "                print(int(uid),'\\t',domain,'\\t','cat4')\n",
    "#mapper"
   ]
  },
  {
   "cell_type": "code",
   "execution_count": null,
   "metadata": {},
   "outputs": [],
   "source": [
    "#запуск map job\n",
    "hadoop jar hadoop-streaming.jar -input /labs/lab03data -file ~/maplab3.py\n",
    "-mapper maplab3.py –output /user/name.surname/lab03"
   ]
  },
  {
   "cell_type": "code",
   "execution_count": null,
   "metadata": {},
   "outputs": [],
   "source": [
    "#Шаг 1 Создание таблицы\n",
    "CREATE EXTERNAL TABLE lab3_url_logs (\n",
    "  uid string, \n",
    "  domain string, \n",
    "  category string) \n",
    "ROW FORMAT DELIMITED \n",
    "FIELDS TERMINATED BY '\\t' \n",
    "STORED AS TEXTFILE \n",
    "location '/user/name.surname/works';\n",
    "load data inpath '/user/name.surname/lab03/' into table lab3_url_logs;"
   ]
  },
  {
   "cell_type": "code",
   "execution_count": null,
   "metadata": {},
   "outputs": [],
   "source": [
    "#Шаг 2 Считаем кол-во\n",
    "select uid,domain,category,count(*) sum\n",
    "from works \n",
    "group by uid, domain, category"
   ]
  },
  {
   "cell_type": "code",
   "execution_count": null,
   "metadata": {},
   "outputs": [],
   "source": [
    "#Шаг 3 Сохранение данных запроса\n",
    "INSERT OVERWRITE DIRECTORY 'hdfs://bd-master.newprolab.com:8020/user/name.surname/lab03result'\n",
    "ROW FORMAT DELIMITED\n",
    "FIELDS TERMINATED BY '\\t'\n",
    "STORED AS TEXTFILE\n",
    "## верный вариант решения\n",
    "with T1 as (\n",
    "select trim(uid) as uid, trim(url) as url, CASE\n",
    "    WHEN trim(url) in ('cars.ru', 'avto-russia.ru', 'bmwclub.ru') THEN 'Autouser'\n",
    "    WHEN trim(url) in ('samara-papa.ru', 'vodvore.net', 'mama51.ru') THEN 'Youngparentuser'\n",
    "    WHEN trim(url) in ('sp.krasmama.ru', 'forum.krasmama.ru', 'forum.omskmama.ru') THEN 'Pregnantuser'\n",
    "    WHEN trim(url) in ('novayagazeta.ru', 'echo.msk.ru', 'inosmi.ru') THEN 'Politicsuser'\n",
    "    ELSE 'Other'\n",
    "  END user_cat, count(*) as cnt_url from lab3_url_logs\n",
    "group by uid, url\n",
    "--order by CAST(trim(uid) AS float)\n",
    "having count(*) >= 10)\n",
    "SELECT \n",
    " aa.uid,\n",
    " NVL(bb.flag_cat1, 0),\n",
    " NVL(cc.flag_cat2, 0),\n",
    " NVL(dd.flag_cat3, 0),\n",
    " NVL(ee.flag_cat4, 0)\n",
    "FROM (SELECT DISTINCT trim(uid) as uid FROM lab3_url_logs ) aa\n",
    "LEFT JOIN (SELECT DISTINCT uid, 1 as flag_cat1  FROM T1 WHERE trim(user_cat) = 'Autouser') bb\n",
    "ON aa.uid = bb.uid \n",
    "LEFT JOIN (SELECT DISTINCT uid, 1 as flag_cat2  FROM T1 WHERE trim(user_cat) = 'Youngparentuser') cc\n",
    "ON aa.uid = cc.uid \n",
    "LEFT JOIN (SELECT DISTINCT uid, 1 as flag_cat3  FROM T1 WHERE trim(user_cat) = 'Pregnantuser') dd\n",
    "ON aa.uid = dd.uid \n",
    "LEFT JOIN (SELECT DISTINCT uid, 1 as flag_cat4  FROM T1 WHERE trim(user_cat) = 'Politicsuser') ee\n",
    "ON aa.uid = ee.uid \n",
    "ORDER BY\n",
    "    CAST(trim(aa.uid) AS float) ASC"
   ]
  }
 ],
 "metadata": {
  "kernelspec": {
   "display_name": "Python 3",
   "language": "python",
   "name": "python3"
  },
  "language_info": {
   "codemirror_mode": {
    "name": "ipython",
    "version": 3
   },
   "file_extension": ".py",
   "mimetype": "text/x-python",
   "name": "python",
   "nbconvert_exporter": "python",
   "pygments_lexer": "ipython3",
   "version": "3.6.5"
  }
 },
 "nbformat": 4,
 "nbformat_minor": 5
}
